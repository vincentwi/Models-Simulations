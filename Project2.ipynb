{
 "cells": [
  {
   "cell_type": "code",
   "execution_count": null,
   "metadata": {
    "collapsed": true
   },
   "outputs": [],
   "source": [
    "import pandas as pd\n",
    "import matplotlib.pyplot as plt\n",
    "import numpy as np\n",
    "\n",
    "from particles import kalman\n",
    "from scipy.optimize import minimize\n",
    "\n",
    "nile = pd.read_csv(\"nile.csv\")\n",
    "nile[\"years\"] = range(1871, 1971)\n",
    "nile.head(10)"
   ]
  },
  {
   "cell_type": "code",
   "execution_count": null,
   "outputs": [],
   "source": [
    "TRAIN_SIZE = 80\n",
    "train_df = nile[:TRAIN_SIZE]\n",
    "test_df = nile[TRAIN_SIZE:]\n",
    "train_df.shape, test_df.shape"
   ],
   "metadata": {
    "collapsed": false,
    "pycharm": {
     "name": "#%%\n"
    }
   }
  },
  {
   "cell_type": "code",
   "execution_count": null,
   "outputs": [],
   "source": [
    "mean_before = nile[nile[\"years\"] <= 1898][\"flow\"].mean()\n",
    "mean_after = nile[nile[\"years\"] > 1898][\"flow\"].mean()\n",
    "mean_before, mean_after"
   ],
   "metadata": {
    "collapsed": false,
    "pycharm": {
     "name": "#%%\n"
    }
   }
  },
  {
   "cell_type": "code",
   "execution_count": null,
   "outputs": [],
   "source": [
    "plt.plot(nile.years, nile.flow)\n",
    "plt.vlines(x=1898, ymin=500, ymax=1350, color=\"red\", label=\"Break Point\")\n",
    "plt.hlines(y=mean_before, xmin=1871, xmax=1898, color=\"green\", label=\"Mean Flow Before\")\n",
    "plt.hlines(y=mean_after, xmin=1898, xmax=1970, color=\"black\", label=\"Mean Flow After\")\n",
    "plt.xlabel(\"Years\")\n",
    "plt.ylabel(\"Annual Flow\")\n",
    "plt.title(\"Flow of Nile over Time\")\n",
    "plt.legend()\n",
    "plt.show()"
   ],
   "metadata": {
    "collapsed": false,
    "pycharm": {
     "name": "#%%\n"
    }
   }
  },
  {
   "cell_type": "code",
   "execution_count": null,
   "outputs": [],
   "source": [
    "def build_model(varX, varY):\n",
    "    ssm = kalman.MVLinearGauss(F=np.eye(1), G=np.eye(1),\n",
    "                               covX=np.array([varX]), covY=np.array([varY]),\n",
    "                               mu0=np.array([1120]), cov0=np.array([1450]))\n",
    "    return ssm"
   ],
   "metadata": {
    "collapsed": false,
    "pycharm": {
     "name": "#%%\n"
    }
   }
  },
  {
   "cell_type": "code",
   "execution_count": null,
   "outputs": [],
   "source": [
    "def compute_log_likelihood(theta):\n",
    "    varX = theta[0]\n",
    "    varY = theta[1]\n",
    "\n",
    "    ssm = build_model(varX, varY)\n",
    "    kf = kalman.Kalman(ssm=ssm, data=train_df.flow.to_numpy())\n",
    "    kf.filter()\n",
    "    log_likelihood = np.sum(kf.logpyt)\n",
    "    return log_likelihood"
   ],
   "metadata": {
    "collapsed": false,
    "pycharm": {
     "name": "#%%\n"
    }
   }
  },
  {
   "cell_type": "code",
   "execution_count": null,
   "outputs": [],
   "source": [
    "theta0 = [1450, 15000]\n",
    "output = minimize(lambda theta: -compute_log_likelihood(theta),\n",
    "                  x0=theta0, method=\"Nelder-Mead\")\n",
    "mle = output.x\n",
    "mle"
   ],
   "metadata": {
    "collapsed": false,
    "pycharm": {
     "name": "#%%\n"
    }
   }
  },
  {
   "cell_type": "code",
   "execution_count": null,
   "outputs": [],
   "source": [
    "ssm_mle = build_model(mle[0], mle[1])\n",
    "kf_mle = kalman.Kalman(ssm=ssm_mle, data=train_df.flow.to_numpy())\n",
    "kf_mle.filter()\n",
    "kf_mle.smoother()"
   ],
   "metadata": {
    "collapsed": false,
    "pycharm": {
     "name": "#%%\n"
    }
   }
  },
  {
   "cell_type": "code",
   "execution_count": null,
   "outputs": [],
   "source": [
    "filter_means = np.array([filtering.mean[0] for filtering in kf_mle.filt])\n",
    "filter_stds = np.array([np.sqrt(filtering.cov[0,0]) for filtering in kf_mle.filt])\n",
    "smooth_means = np.array([smoothing.mean[0] for smoothing in kf_mle.smth])\n",
    "smooth_stds = np.array([np.sqrt(smoothing.cov[0, 0]) for smoothing in kf_mle.smth])"
   ],
   "metadata": {
    "collapsed": false,
    "pycharm": {
     "name": "#%%\n"
    }
   }
  },
  {
   "cell_type": "code",
   "execution_count": null,
   "outputs": [],
   "source": [
    "plt.plot(train_df.years, filter_means, label=\"Kalman Filter\")\n",
    "plt.plot(train_df.years, smooth_means, label=\"Kalman Smoother\")\n",
    "plt.scatter(train_df.years, train_df.flow, label=\"Measurements\", color=\"green\")\n",
    "plt.xlabel(\"Years\")\n",
    "plt.ylabel(\"Annual Flow\")\n",
    "plt.title(\"Flow of Nile over Time\")\n",
    "plt.legend()\n",
    "plt.show()"
   ],
   "metadata": {
    "collapsed": false,
    "pycharm": {
     "name": "#%%\n"
    }
   }
  },
  {
   "cell_type": "code",
   "execution_count": null,
   "outputs": [],
   "source": [
    "plt.plot(train_df.years, filter_means)\n",
    "plt.plot(train_df.years, filter_means - 2*filter_stds, color = \"orange\")\n",
    "plt.plot(train_df.years, filter_means + 2*filter_stds, color = \"orange\")\n",
    "plt.xlabel(\"Years\")\n",
    "plt.ylabel(\"Annual Flow\")\n",
    "plt.title(\"Filtering Mean and Confidence Interval\")\n",
    "plt.show()"
   ],
   "metadata": {
    "collapsed": false,
    "pycharm": {
     "name": "#%%\n"
    }
   }
  },
  {
   "cell_type": "code",
   "execution_count": null,
   "outputs": [],
   "source": [
    "plt.plot(train_df.years, smooth_means)\n",
    "plt.plot(train_df.years, smooth_means - 2*smooth_stds, color = \"orange\")\n",
    "plt.plot(train_df.years, smooth_means + 2*smooth_stds, color = \"orange\")\n",
    "plt.xlabel(\"Years\")\n",
    "plt.ylabel(\"Annual Flow\")\n",
    "plt.title(\"Filtering Mean and Confidence Interval\")\n",
    "plt.show()"
   ],
   "metadata": {
    "collapsed": false,
    "pycharm": {
     "name": "#%%\n"
    }
   }
  },
  {
   "cell_type": "code",
   "execution_count": null,
   "outputs": [],
   "source": [
    "np.sum(smooth_stds <= filter_stds)\n",
    "# smoothing standard deviations are smaller for all observations"
   ],
   "metadata": {
    "collapsed": false,
    "pycharm": {
     "name": "#%%\n"
    }
   }
  },
  {
   "cell_type": "code",
   "execution_count": null,
   "outputs": [],
   "source": [
    "smooth_stds <= filter_stds"
   ],
   "metadata": {
    "collapsed": false,
    "pycharm": {
     "name": "#%%\n"
    }
   }
  },
  {
   "cell_type": "code",
   "execution_count": null,
   "outputs": [],
   "source": [],
   "metadata": {
    "collapsed": false,
    "pycharm": {
     "name": "#%%\n"
    }
   }
  }
 ],
 "metadata": {
  "kernelspec": {
   "display_name": "Python 3",
   "language": "python",
   "name": "python3"
  },
  "language_info": {
   "codemirror_mode": {
    "name": "ipython",
    "version": 2
   },
   "file_extension": ".py",
   "mimetype": "text/x-python",
   "name": "python",
   "nbconvert_exporter": "python",
   "pygments_lexer": "ipython2",
   "version": "2.7.6"
  }
 },
 "nbformat": 4,
 "nbformat_minor": 0
}