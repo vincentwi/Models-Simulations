{
 "cells": [
  {
   "cell_type": "code",
   "execution_count": null,
   "metadata": {
    "ExecuteTime": {
     "end_time": "2022-06-24T02:34:40.686556Z",
     "start_time": "2022-06-24T02:34:16.027755Z"
    }
   },
   "outputs": [],
   "source": [
    "import pandas as pd\n",
    "import matplotlib.pyplot as plt\n",
    "import numpy as np\n",
    "\n",
    "from particles import kalman\n",
    "from scipy.optimize import minimize"
   ]
  },
  {
   "cell_type": "markdown",
   "metadata": {},
   "source": [
    "\n",
    "# Question 1 State Space Modeling for River Nile"
   ]
  },
  {
   "cell_type": "code",
   "execution_count": null,
   "metadata": {
    "ExecuteTime": {
     "end_time": "2022-06-24T01:59:30.788505Z",
     "start_time": "2022-06-24T01:59:30.643449Z"
    }
   },
   "outputs": [],
   "source": [
    "# Q1. read the csv\n",
    "nile = pd.read_csv(\"nile.csv\")\n",
    "nile[\"years\"] = range(1871, 1971)\n",
    "nile.head(10)"
   ]
  },
  {
   "cell_type": "code",
   "execution_count": null,
   "metadata": {
    "ExecuteTime": {
     "end_time": "2022-06-24T02:02:37.578207Z",
     "start_time": "2022-06-24T02:02:37.568602Z"
    },
    "pycharm": {
     "name": "#%%\n"
    }
   },
   "outputs": [],
   "source": [
    "# Q2. Split into train and test set\n",
    "TRAIN_SIZE = 80\n",
    "train_df = nile[:TRAIN_SIZE]\n",
    "test_df = nile[TRAIN_SIZE:]\n",
    "train_df.shape, test_df.shape"
   ]
  },
  {
   "cell_type": "code",
   "execution_count": null,
   "metadata": {
    "ExecuteTime": {
     "end_time": "2022-06-24T02:03:20.787507Z",
     "start_time": "2022-06-24T02:03:20.716377Z"
    },
    "pycharm": {
     "name": "#%%\n"
    }
   },
   "outputs": [],
   "source": [
    "# Q3. Identify the changepoint\n",
    "mean_before = nile[nile[\"years\"] <= 1898][\"flow\"].mean()\n",
    "mean_after = nile[nile[\"years\"] > 1898][\"flow\"].mean()\n",
    "mean_before, mean_after # From the mean value before year 1898 and after year 1898, we can clearly see a significant difference"
   ]
  },
  {
   "cell_type": "code",
   "execution_count": null,
   "metadata": {
    "ExecuteTime": {
     "end_time": "2022-06-24T02:04:40.755219Z",
     "start_time": "2022-06-24T02:04:40.435390Z"
    },
    "pycharm": {
     "name": "#%%\n"
    }
   },
   "outputs": [],
   "source": [
    "plt.plot(nile.years, nile.flow)\n",
    "plt.vlines(x=1898, ymin=500, ymax=1350, color=\"red\", label=\"Break Point\")\n",
    "plt.hlines(y=mean_before, xmin=1871, xmax=1898, color=\"green\", label=\"Mean Flow Before\")\n",
    "plt.hlines(y=mean_after, xmin=1898, xmax=1970, color=\"black\", label=\"Mean Flow After\")\n",
    "plt.xlabel(\"Years\")\n",
    "plt.ylabel(\"Annual Flow\")\n",
    "plt.title(\"Flow of Nile over Time\")\n",
    "plt.legend()\n",
    "plt.show()"
   ]
  },
  {
   "cell_type": "code",
   "execution_count": null,
   "metadata": {
    "ExecuteTime": {
     "end_time": "2022-06-24T02:27:46.014227Z",
     "start_time": "2022-06-24T02:27:46.007575Z"
    },
    "pycharm": {
     "name": "#%%\n"
    }
   },
   "outputs": [],
   "source": [
    "# Q4.Construct a state space model\n",
    "def build_model(varX, varY):\n",
    "    ssm = kalman.MVLinearGauss(F=np.eye(1), G=np.eye(1),\n",
    "                               covX=np.array([varX]), covY=np.array([varY]),\n",
    "                               mu0=np.array([1120]), cov0=np.array([1450]))\n",
    "    return ssm"
   ]
  },
  {
   "cell_type": "code",
   "execution_count": null,
   "metadata": {
    "ExecuteTime": {
     "end_time": "2022-06-24T02:31:24.846471Z",
     "start_time": "2022-06-24T02:31:24.839971Z"
    },
    "pycharm": {
     "name": "#%%\n"
    }
   },
   "outputs": [],
   "source": [
    "# Q5.Construct a kalman filter\n",
    "def compute_log_likelihood(theta):\n",
    "    varX = theta[0]\n",
    "    varY = theta[1]\n",
    "\n",
    "    ssm = build_model(varX, varY)\n",
    "    kf = kalman.Kalman(ssm=ssm, data=train_df.flow.to_numpy())\n",
    "    kf.filter()\n",
    "    log_likelihood = np.sum(kf.logpyt)\n",
    "    return log_likelihood"
   ]
  },
  {
   "cell_type": "code",
   "execution_count": null,
   "metadata": {
    "ExecuteTime": {
     "end_time": "2022-06-24T02:34:46.630916Z",
     "start_time": "2022-06-24T02:34:44.575967Z"
    },
    "pycharm": {
     "name": "#%%\n"
    }
   },
   "outputs": [],
   "source": [
    "# Q6. Compute the maximum likelihood estimator\n",
    "theta0 = [1450, 15000]\n",
    "output = minimize(lambda theta: -compute_log_likelihood(theta),\n",
    "                  x0=theta0, method=\"Nelder-Mead\")\n",
    "mle = output.x\n",
    "mle"
   ]
  },
  {
   "cell_type": "code",
   "execution_count": null,
   "metadata": {
    "ExecuteTime": {
     "end_time": "2022-06-24T02:36:46.219236Z",
     "start_time": "2022-06-24T02:36:46.183164Z"
    },
    "pycharm": {
     "name": "#%%\n"
    }
   },
   "outputs": [],
   "source": [
    "# Q7. Perform Kalman filtering and smoothing on the state space model\n",
    "ssm_mle = build_model(mle[0], mle[1])\n",
    "kf_mle = kalman.Kalman(ssm=ssm_mle, data=train_df.flow.to_numpy())\n",
    "kf_mle.filter()\n",
    "kf_mle.smoother()"
   ]
  },
  {
   "cell_type": "code",
   "execution_count": null,
   "metadata": {
    "ExecuteTime": {
     "end_time": "2022-06-24T02:40:42.816436Z",
     "start_time": "2022-06-24T02:40:42.810676Z"
    },
    "pycharm": {
     "name": "#%%\n"
    }
   },
   "outputs": [],
   "source": [
    "# Q8. Plot the filtering mean and smoothing mean\n",
    "filter_means = np.array([filtering.mean[0] for filtering in kf_mle.filt])\n",
    "filter_stds = np.array([np.sqrt(filtering.cov[0,0]) for filtering in kf_mle.filt])\n",
    "smooth_means = np.array([smoothing.mean[0] for smoothing in kf_mle.smth])\n",
    "smooth_stds = np.array([np.sqrt(smoothing.cov[0, 0]) for smoothing in kf_mle.smth])"
   ]
  },
  {
   "cell_type": "code",
   "execution_count": null,
   "metadata": {
    "ExecuteTime": {
     "end_time": "2022-06-24T02:40:45.580828Z",
     "start_time": "2022-06-24T02:40:45.351657Z"
    },
    "pycharm": {
     "name": "#%%\n"
    },
    "scrolled": true
   },
   "outputs": [],
   "source": [
    "plt.plot(train_df.years, filter_means, label=\"Kalman Filter\")\n",
    "plt.plot(train_df.years, smooth_means, label=\"Kalman Smoother\")\n",
    "plt.scatter(train_df.years, train_df.flow, label=\"Measurements\", color=\"green\")\n",
    "plt.xlabel(\"Years\")\n",
    "plt.ylabel(\"Annual Flow\")\n",
    "plt.title(\"Flow of Nile over Time\")\n",
    "plt.legend()\n",
    "plt.show()"
   ]
  },
  {
   "cell_type": "markdown",
   "metadata": {},
   "source": [
    "Since smoother uses more information (the entire time series) than filter, which only uses historical points, it appears more smooth with less variations as more information we collect, more certain we are about estimations.\n",
    "\n",
    "As to the change point, since smoother considers both preceding and following data points, it will reflect the drop earlier than the filter to extrapolate the trend."
   ]
  },
  {
   "cell_type": "code",
   "execution_count": null,
   "metadata": {
    "ExecuteTime": {
     "end_time": "2022-06-24T03:02:27.321115Z",
     "start_time": "2022-06-24T03:02:27.132135Z"
    },
    "pycharm": {
     "name": "#%%\n"
    }
   },
   "outputs": [],
   "source": [
    "plt.plot(train_df.years, filter_means)\n",
    "plt.plot(train_df.years, filter_means - 2*filter_stds, color = \"orange\")\n",
    "plt.plot(train_df.years, filter_means + 2*filter_stds, color = \"orange\")\n",
    "plt.xlabel(\"Years\")\n",
    "plt.ylabel(\"Annual Flow\")\n",
    "plt.title(\"Filtering Mean and Confidence Interval\")\n",
    "plt.show()"
   ]
  },
  {
   "cell_type": "code",
   "execution_count": null,
   "metadata": {
    "pycharm": {
     "name": "#%%\n"
    }
   },
   "outputs": [],
   "source": [
    "plt.plot(train_df.years, smooth_means)\n",
    "plt.plot(train_df.years, smooth_means - 2*smooth_stds, color = \"orange\")\n",
    "plt.plot(train_df.years, smooth_means + 2*smooth_stds, color = \"orange\")\n",
    "plt.xlabel(\"Years\")\n",
    "plt.ylabel(\"Annual Flow\")\n",
    "plt.title(\"Filtering Mean and Confidence Interval\")\n",
    "plt.show()"
   ]
  },
  {
   "cell_type": "code",
   "execution_count": null,
   "metadata": {
    "pycharm": {
     "name": "#%%\n"
    }
   },
   "outputs": [],
   "source": [
    "np.sum(smooth_stds <= filter_stds)\n",
    "# smoothing standard deviations are smaller for all observations"
   ]
  },
  {
   "cell_type": "code",
   "execution_count": null,
   "metadata": {
    "pycharm": {
     "name": "#%%\n"
    }
   },
   "outputs": [],
   "source": [
    "smooth_stds <= filter_stds"
   ]
  },
  {
   "cell_type": "code",
   "execution_count": null,
   "metadata": {
    "pycharm": {
     "name": "#%%\n"
    }
   },
   "outputs": [],
   "source": []
  }
 ],
 "metadata": {
  "kernelspec": {
   "display_name": "Python 3",
   "language": "python",
   "name": "python3"
  },
  "language_info": {
   "codemirror_mode": {
    "name": "ipython",
    "version": 3
   },
   "file_extension": ".py",
   "mimetype": "text/x-python",
   "name": "python",
   "nbconvert_exporter": "python",
   "pygments_lexer": "ipython3",
   "version": "3.8.8"
  },
  "toc": {
   "base_numbering": 1,
   "nav_menu": {},
   "number_sections": true,
   "sideBar": true,
   "skip_h1_title": false,
   "title_cell": "Table of Contents",
   "title_sidebar": "Contents",
   "toc_cell": false,
   "toc_position": {},
   "toc_section_display": true,
   "toc_window_display": false
  }
 },
 "nbformat": 4,
 "nbformat_minor": 1
}
