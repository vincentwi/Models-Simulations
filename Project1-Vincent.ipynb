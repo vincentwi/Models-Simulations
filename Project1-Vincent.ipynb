{
 "cells": [
  {
   "cell_type": "code",
   "execution_count": 1,
   "id": "close-colombia",
   "metadata": {
    "ExecuteTime": {
     "end_time": "2022-06-09T02:18:32.877056Z",
     "start_time": "2022-06-09T02:18:32.873065Z"
    }
   },
   "outputs": [
    {
     "name": "stderr",
     "output_type": "stream",
     "text": [
      "/opt/homebrew/lib/python3.9/site-packages/jax/_src/lib/__init__.py:34: UserWarning: JAX on Mac ARM machines is experimental and minimally tested. Please see https://github.com/google/jax/issues/5501 in the event of problems.\n",
      "  warnings.warn(\"JAX on Mac ARM machines is experimental and minimally tested. \"\n"
     ]
    }
   ],
   "source": [
    "import pandas as pd\n",
    "import numpy as np\n",
    "import matplotlib.pyplot as plt\n",
    "from scipy.stats import multivariate_normal\n",
    "\n",
    "import jax\n",
    "import jax.numpy as jnp\n",
    "from jax import grad, jit, vmap\n",
    "from jax.scipy.stats.multivariate_normal import logpdf as jlogpdf"
   ]
  },
  {
   "cell_type": "markdown",
   "id": "secure-wyoming",
   "metadata": {},
   "source": [
    "# Question 1: Reading and formatting dataset"
   ]
  },
  {
   "cell_type": "code",
   "execution_count": 2,
   "id": "permanent-anatomy",
   "metadata": {},
   "outputs": [
    {
     "data": {
      "text/html": [
       "<div>\n",
       "<style scoped>\n",
       "    .dataframe tbody tr th:only-of-type {\n",
       "        vertical-align: middle;\n",
       "    }\n",
       "\n",
       "    .dataframe tbody tr th {\n",
       "        vertical-align: top;\n",
       "    }\n",
       "\n",
       "    .dataframe thead th {\n",
       "        text-align: right;\n",
       "    }\n",
       "</style>\n",
       "<table border=\"1\" class=\"dataframe\">\n",
       "  <thead>\n",
       "    <tr style=\"text-align: right;\">\n",
       "      <th></th>\n",
       "      <th>0</th>\n",
       "      <th>1</th>\n",
       "      <th>2</th>\n",
       "      <th>3</th>\n",
       "      <th>4</th>\n",
       "      <th>5</th>\n",
       "      <th>6</th>\n",
       "      <th>7</th>\n",
       "      <th>8</th>\n",
       "      <th>9</th>\n",
       "      <th>...</th>\n",
       "      <th>15</th>\n",
       "      <th>16</th>\n",
       "      <th>17</th>\n",
       "      <th>18</th>\n",
       "      <th>19</th>\n",
       "      <th>20</th>\n",
       "      <th>21</th>\n",
       "      <th>22</th>\n",
       "      <th>23</th>\n",
       "      <th>24</th>\n",
       "    </tr>\n",
       "  </thead>\n",
       "  <tbody>\n",
       "    <tr>\n",
       "      <th>0</th>\n",
       "      <td>1</td>\n",
       "      <td>6</td>\n",
       "      <td>4</td>\n",
       "      <td>12</td>\n",
       "      <td>5</td>\n",
       "      <td>5</td>\n",
       "      <td>3</td>\n",
       "      <td>4</td>\n",
       "      <td>1</td>\n",
       "      <td>67</td>\n",
       "      <td>...</td>\n",
       "      <td>0</td>\n",
       "      <td>0</td>\n",
       "      <td>1</td>\n",
       "      <td>0</td>\n",
       "      <td>0</td>\n",
       "      <td>1</td>\n",
       "      <td>0</td>\n",
       "      <td>0</td>\n",
       "      <td>1</td>\n",
       "      <td>1</td>\n",
       "    </tr>\n",
       "    <tr>\n",
       "      <th>1</th>\n",
       "      <td>2</td>\n",
       "      <td>48</td>\n",
       "      <td>2</td>\n",
       "      <td>60</td>\n",
       "      <td>1</td>\n",
       "      <td>3</td>\n",
       "      <td>2</td>\n",
       "      <td>2</td>\n",
       "      <td>1</td>\n",
       "      <td>22</td>\n",
       "      <td>...</td>\n",
       "      <td>0</td>\n",
       "      <td>0</td>\n",
       "      <td>1</td>\n",
       "      <td>0</td>\n",
       "      <td>0</td>\n",
       "      <td>1</td>\n",
       "      <td>0</td>\n",
       "      <td>0</td>\n",
       "      <td>1</td>\n",
       "      <td>2</td>\n",
       "    </tr>\n",
       "    <tr>\n",
       "      <th>2</th>\n",
       "      <td>4</td>\n",
       "      <td>12</td>\n",
       "      <td>4</td>\n",
       "      <td>21</td>\n",
       "      <td>1</td>\n",
       "      <td>4</td>\n",
       "      <td>3</td>\n",
       "      <td>3</td>\n",
       "      <td>1</td>\n",
       "      <td>49</td>\n",
       "      <td>...</td>\n",
       "      <td>0</td>\n",
       "      <td>0</td>\n",
       "      <td>1</td>\n",
       "      <td>0</td>\n",
       "      <td>0</td>\n",
       "      <td>1</td>\n",
       "      <td>0</td>\n",
       "      <td>1</td>\n",
       "      <td>0</td>\n",
       "      <td>1</td>\n",
       "    </tr>\n",
       "    <tr>\n",
       "      <th>3</th>\n",
       "      <td>1</td>\n",
       "      <td>42</td>\n",
       "      <td>2</td>\n",
       "      <td>79</td>\n",
       "      <td>1</td>\n",
       "      <td>4</td>\n",
       "      <td>3</td>\n",
       "      <td>4</td>\n",
       "      <td>2</td>\n",
       "      <td>45</td>\n",
       "      <td>...</td>\n",
       "      <td>0</td>\n",
       "      <td>0</td>\n",
       "      <td>0</td>\n",
       "      <td>0</td>\n",
       "      <td>0</td>\n",
       "      <td>0</td>\n",
       "      <td>0</td>\n",
       "      <td>0</td>\n",
       "      <td>1</td>\n",
       "      <td>1</td>\n",
       "    </tr>\n",
       "    <tr>\n",
       "      <th>4</th>\n",
       "      <td>1</td>\n",
       "      <td>24</td>\n",
       "      <td>3</td>\n",
       "      <td>49</td>\n",
       "      <td>1</td>\n",
       "      <td>3</td>\n",
       "      <td>3</td>\n",
       "      <td>4</td>\n",
       "      <td>4</td>\n",
       "      <td>53</td>\n",
       "      <td>...</td>\n",
       "      <td>1</td>\n",
       "      <td>0</td>\n",
       "      <td>1</td>\n",
       "      <td>0</td>\n",
       "      <td>0</td>\n",
       "      <td>0</td>\n",
       "      <td>0</td>\n",
       "      <td>0</td>\n",
       "      <td>1</td>\n",
       "      <td>2</td>\n",
       "    </tr>\n",
       "    <tr>\n",
       "      <th>...</th>\n",
       "      <td>...</td>\n",
       "      <td>...</td>\n",
       "      <td>...</td>\n",
       "      <td>...</td>\n",
       "      <td>...</td>\n",
       "      <td>...</td>\n",
       "      <td>...</td>\n",
       "      <td>...</td>\n",
       "      <td>...</td>\n",
       "      <td>...</td>\n",
       "      <td>...</td>\n",
       "      <td>...</td>\n",
       "      <td>...</td>\n",
       "      <td>...</td>\n",
       "      <td>...</td>\n",
       "      <td>...</td>\n",
       "      <td>...</td>\n",
       "      <td>...</td>\n",
       "      <td>...</td>\n",
       "      <td>...</td>\n",
       "      <td>...</td>\n",
       "    </tr>\n",
       "    <tr>\n",
       "      <th>995</th>\n",
       "      <td>4</td>\n",
       "      <td>12</td>\n",
       "      <td>2</td>\n",
       "      <td>17</td>\n",
       "      <td>1</td>\n",
       "      <td>4</td>\n",
       "      <td>2</td>\n",
       "      <td>4</td>\n",
       "      <td>1</td>\n",
       "      <td>31</td>\n",
       "      <td>...</td>\n",
       "      <td>0</td>\n",
       "      <td>0</td>\n",
       "      <td>1</td>\n",
       "      <td>0</td>\n",
       "      <td>0</td>\n",
       "      <td>1</td>\n",
       "      <td>0</td>\n",
       "      <td>1</td>\n",
       "      <td>0</td>\n",
       "      <td>1</td>\n",
       "    </tr>\n",
       "    <tr>\n",
       "      <th>996</th>\n",
       "      <td>1</td>\n",
       "      <td>30</td>\n",
       "      <td>2</td>\n",
       "      <td>39</td>\n",
       "      <td>1</td>\n",
       "      <td>3</td>\n",
       "      <td>1</td>\n",
       "      <td>4</td>\n",
       "      <td>2</td>\n",
       "      <td>40</td>\n",
       "      <td>...</td>\n",
       "      <td>0</td>\n",
       "      <td>1</td>\n",
       "      <td>1</td>\n",
       "      <td>0</td>\n",
       "      <td>0</td>\n",
       "      <td>1</td>\n",
       "      <td>0</td>\n",
       "      <td>0</td>\n",
       "      <td>0</td>\n",
       "      <td>1</td>\n",
       "    </tr>\n",
       "    <tr>\n",
       "      <th>997</th>\n",
       "      <td>4</td>\n",
       "      <td>12</td>\n",
       "      <td>2</td>\n",
       "      <td>8</td>\n",
       "      <td>1</td>\n",
       "      <td>5</td>\n",
       "      <td>3</td>\n",
       "      <td>4</td>\n",
       "      <td>3</td>\n",
       "      <td>38</td>\n",
       "      <td>...</td>\n",
       "      <td>0</td>\n",
       "      <td>0</td>\n",
       "      <td>1</td>\n",
       "      <td>0</td>\n",
       "      <td>0</td>\n",
       "      <td>1</td>\n",
       "      <td>0</td>\n",
       "      <td>0</td>\n",
       "      <td>1</td>\n",
       "      <td>1</td>\n",
       "    </tr>\n",
       "    <tr>\n",
       "      <th>998</th>\n",
       "      <td>1</td>\n",
       "      <td>45</td>\n",
       "      <td>2</td>\n",
       "      <td>18</td>\n",
       "      <td>1</td>\n",
       "      <td>3</td>\n",
       "      <td>3</td>\n",
       "      <td>4</td>\n",
       "      <td>4</td>\n",
       "      <td>23</td>\n",
       "      <td>...</td>\n",
       "      <td>0</td>\n",
       "      <td>0</td>\n",
       "      <td>1</td>\n",
       "      <td>0</td>\n",
       "      <td>0</td>\n",
       "      <td>0</td>\n",
       "      <td>0</td>\n",
       "      <td>0</td>\n",
       "      <td>1</td>\n",
       "      <td>2</td>\n",
       "    </tr>\n",
       "    <tr>\n",
       "      <th>999</th>\n",
       "      <td>2</td>\n",
       "      <td>45</td>\n",
       "      <td>4</td>\n",
       "      <td>46</td>\n",
       "      <td>2</td>\n",
       "      <td>1</td>\n",
       "      <td>3</td>\n",
       "      <td>4</td>\n",
       "      <td>3</td>\n",
       "      <td>27</td>\n",
       "      <td>...</td>\n",
       "      <td>0</td>\n",
       "      <td>1</td>\n",
       "      <td>1</td>\n",
       "      <td>0</td>\n",
       "      <td>0</td>\n",
       "      <td>1</td>\n",
       "      <td>0</td>\n",
       "      <td>0</td>\n",
       "      <td>1</td>\n",
       "      <td>1</td>\n",
       "    </tr>\n",
       "  </tbody>\n",
       "</table>\n",
       "<p>1000 rows × 25 columns</p>\n",
       "</div>"
      ],
      "text/plain": [
       "     0   1   2   3   4   5   6   7   8   9   ...  15  16  17  18  19  20  21  \\\n",
       "0     1   6   4  12   5   5   3   4   1  67  ...   0   0   1   0   0   1   0   \n",
       "1     2  48   2  60   1   3   2   2   1  22  ...   0   0   1   0   0   1   0   \n",
       "2     4  12   4  21   1   4   3   3   1  49  ...   0   0   1   0   0   1   0   \n",
       "3     1  42   2  79   1   4   3   4   2  45  ...   0   0   0   0   0   0   0   \n",
       "4     1  24   3  49   1   3   3   4   4  53  ...   1   0   1   0   0   0   0   \n",
       "..   ..  ..  ..  ..  ..  ..  ..  ..  ..  ..  ...  ..  ..  ..  ..  ..  ..  ..   \n",
       "995   4  12   2  17   1   4   2   4   1  31  ...   0   0   1   0   0   1   0   \n",
       "996   1  30   2  39   1   3   1   4   2  40  ...   0   1   1   0   0   1   0   \n",
       "997   4  12   2   8   1   5   3   4   3  38  ...   0   0   1   0   0   1   0   \n",
       "998   1  45   2  18   1   3   3   4   4  23  ...   0   0   1   0   0   0   0   \n",
       "999   2  45   4  46   2   1   3   4   3  27  ...   0   1   1   0   0   1   0   \n",
       "\n",
       "     22  23  24  \n",
       "0     0   1   1  \n",
       "1     0   1   2  \n",
       "2     1   0   1  \n",
       "3     0   1   1  \n",
       "4     0   1   2  \n",
       "..   ..  ..  ..  \n",
       "995   1   0   1  \n",
       "996   0   0   1  \n",
       "997   0   1   1  \n",
       "998   0   1   2  \n",
       "999   0   1   1  \n",
       "\n",
       "[1000 rows x 25 columns]"
      ]
     },
     "execution_count": 2,
     "metadata": {},
     "output_type": "execute_result"
    }
   ],
   "source": [
    "#1.1 : Read the datset with pandas\n",
    "dataset = pd.read_csv(\"GermanCredit.txt\", sep =\"\\s+\", header=None)\n",
    "dataset"
   ]
  },
  {
   "cell_type": "code",
   "execution_count": 3,
   "id": "handmade-accounting",
   "metadata": {},
   "outputs": [
    {
     "data": {
      "text/html": [
       "<div>\n",
       "<style scoped>\n",
       "    .dataframe tbody tr th:only-of-type {\n",
       "        vertical-align: middle;\n",
       "    }\n",
       "\n",
       "    .dataframe tbody tr th {\n",
       "        vertical-align: top;\n",
       "    }\n",
       "\n",
       "    .dataframe thead th {\n",
       "        text-align: right;\n",
       "    }\n",
       "</style>\n",
       "<table border=\"1\" class=\"dataframe\">\n",
       "  <thead>\n",
       "    <tr style=\"text-align: right;\">\n",
       "      <th></th>\n",
       "      <th>0</th>\n",
       "      <th>1</th>\n",
       "      <th>2</th>\n",
       "      <th>3</th>\n",
       "      <th>4</th>\n",
       "      <th>5</th>\n",
       "      <th>6</th>\n",
       "      <th>7</th>\n",
       "      <th>8</th>\n",
       "      <th>9</th>\n",
       "      <th>...</th>\n",
       "      <th>15</th>\n",
       "      <th>16</th>\n",
       "      <th>17</th>\n",
       "      <th>18</th>\n",
       "      <th>19</th>\n",
       "      <th>20</th>\n",
       "      <th>21</th>\n",
       "      <th>22</th>\n",
       "      <th>23</th>\n",
       "      <th>24</th>\n",
       "    </tr>\n",
       "  </thead>\n",
       "  <tbody>\n",
       "    <tr>\n",
       "      <th>0</th>\n",
       "      <td>1</td>\n",
       "      <td>6</td>\n",
       "      <td>4</td>\n",
       "      <td>12</td>\n",
       "      <td>5</td>\n",
       "      <td>5</td>\n",
       "      <td>3</td>\n",
       "      <td>4</td>\n",
       "      <td>1</td>\n",
       "      <td>67</td>\n",
       "      <td>...</td>\n",
       "      <td>0</td>\n",
       "      <td>0</td>\n",
       "      <td>1</td>\n",
       "      <td>0</td>\n",
       "      <td>0</td>\n",
       "      <td>1</td>\n",
       "      <td>0</td>\n",
       "      <td>0</td>\n",
       "      <td>1</td>\n",
       "      <td>0</td>\n",
       "    </tr>\n",
       "    <tr>\n",
       "      <th>1</th>\n",
       "      <td>2</td>\n",
       "      <td>48</td>\n",
       "      <td>2</td>\n",
       "      <td>60</td>\n",
       "      <td>1</td>\n",
       "      <td>3</td>\n",
       "      <td>2</td>\n",
       "      <td>2</td>\n",
       "      <td>1</td>\n",
       "      <td>22</td>\n",
       "      <td>...</td>\n",
       "      <td>0</td>\n",
       "      <td>0</td>\n",
       "      <td>1</td>\n",
       "      <td>0</td>\n",
       "      <td>0</td>\n",
       "      <td>1</td>\n",
       "      <td>0</td>\n",
       "      <td>0</td>\n",
       "      <td>1</td>\n",
       "      <td>1</td>\n",
       "    </tr>\n",
       "    <tr>\n",
       "      <th>2</th>\n",
       "      <td>4</td>\n",
       "      <td>12</td>\n",
       "      <td>4</td>\n",
       "      <td>21</td>\n",
       "      <td>1</td>\n",
       "      <td>4</td>\n",
       "      <td>3</td>\n",
       "      <td>3</td>\n",
       "      <td>1</td>\n",
       "      <td>49</td>\n",
       "      <td>...</td>\n",
       "      <td>0</td>\n",
       "      <td>0</td>\n",
       "      <td>1</td>\n",
       "      <td>0</td>\n",
       "      <td>0</td>\n",
       "      <td>1</td>\n",
       "      <td>0</td>\n",
       "      <td>1</td>\n",
       "      <td>0</td>\n",
       "      <td>0</td>\n",
       "    </tr>\n",
       "    <tr>\n",
       "      <th>3</th>\n",
       "      <td>1</td>\n",
       "      <td>42</td>\n",
       "      <td>2</td>\n",
       "      <td>79</td>\n",
       "      <td>1</td>\n",
       "      <td>4</td>\n",
       "      <td>3</td>\n",
       "      <td>4</td>\n",
       "      <td>2</td>\n",
       "      <td>45</td>\n",
       "      <td>...</td>\n",
       "      <td>0</td>\n",
       "      <td>0</td>\n",
       "      <td>0</td>\n",
       "      <td>0</td>\n",
       "      <td>0</td>\n",
       "      <td>0</td>\n",
       "      <td>0</td>\n",
       "      <td>0</td>\n",
       "      <td>1</td>\n",
       "      <td>0</td>\n",
       "    </tr>\n",
       "    <tr>\n",
       "      <th>4</th>\n",
       "      <td>1</td>\n",
       "      <td>24</td>\n",
       "      <td>3</td>\n",
       "      <td>49</td>\n",
       "      <td>1</td>\n",
       "      <td>3</td>\n",
       "      <td>3</td>\n",
       "      <td>4</td>\n",
       "      <td>4</td>\n",
       "      <td>53</td>\n",
       "      <td>...</td>\n",
       "      <td>1</td>\n",
       "      <td>0</td>\n",
       "      <td>1</td>\n",
       "      <td>0</td>\n",
       "      <td>0</td>\n",
       "      <td>0</td>\n",
       "      <td>0</td>\n",
       "      <td>0</td>\n",
       "      <td>1</td>\n",
       "      <td>1</td>\n",
       "    </tr>\n",
       "    <tr>\n",
       "      <th>...</th>\n",
       "      <td>...</td>\n",
       "      <td>...</td>\n",
       "      <td>...</td>\n",
       "      <td>...</td>\n",
       "      <td>...</td>\n",
       "      <td>...</td>\n",
       "      <td>...</td>\n",
       "      <td>...</td>\n",
       "      <td>...</td>\n",
       "      <td>...</td>\n",
       "      <td>...</td>\n",
       "      <td>...</td>\n",
       "      <td>...</td>\n",
       "      <td>...</td>\n",
       "      <td>...</td>\n",
       "      <td>...</td>\n",
       "      <td>...</td>\n",
       "      <td>...</td>\n",
       "      <td>...</td>\n",
       "      <td>...</td>\n",
       "      <td>...</td>\n",
       "    </tr>\n",
       "    <tr>\n",
       "      <th>995</th>\n",
       "      <td>4</td>\n",
       "      <td>12</td>\n",
       "      <td>2</td>\n",
       "      <td>17</td>\n",
       "      <td>1</td>\n",
       "      <td>4</td>\n",
       "      <td>2</td>\n",
       "      <td>4</td>\n",
       "      <td>1</td>\n",
       "      <td>31</td>\n",
       "      <td>...</td>\n",
       "      <td>0</td>\n",
       "      <td>0</td>\n",
       "      <td>1</td>\n",
       "      <td>0</td>\n",
       "      <td>0</td>\n",
       "      <td>1</td>\n",
       "      <td>0</td>\n",
       "      <td>1</td>\n",
       "      <td>0</td>\n",
       "      <td>0</td>\n",
       "    </tr>\n",
       "    <tr>\n",
       "      <th>996</th>\n",
       "      <td>1</td>\n",
       "      <td>30</td>\n",
       "      <td>2</td>\n",
       "      <td>39</td>\n",
       "      <td>1</td>\n",
       "      <td>3</td>\n",
       "      <td>1</td>\n",
       "      <td>4</td>\n",
       "      <td>2</td>\n",
       "      <td>40</td>\n",
       "      <td>...</td>\n",
       "      <td>0</td>\n",
       "      <td>1</td>\n",
       "      <td>1</td>\n",
       "      <td>0</td>\n",
       "      <td>0</td>\n",
       "      <td>1</td>\n",
       "      <td>0</td>\n",
       "      <td>0</td>\n",
       "      <td>0</td>\n",
       "      <td>0</td>\n",
       "    </tr>\n",
       "    <tr>\n",
       "      <th>997</th>\n",
       "      <td>4</td>\n",
       "      <td>12</td>\n",
       "      <td>2</td>\n",
       "      <td>8</td>\n",
       "      <td>1</td>\n",
       "      <td>5</td>\n",
       "      <td>3</td>\n",
       "      <td>4</td>\n",
       "      <td>3</td>\n",
       "      <td>38</td>\n",
       "      <td>...</td>\n",
       "      <td>0</td>\n",
       "      <td>0</td>\n",
       "      <td>1</td>\n",
       "      <td>0</td>\n",
       "      <td>0</td>\n",
       "      <td>1</td>\n",
       "      <td>0</td>\n",
       "      <td>0</td>\n",
       "      <td>1</td>\n",
       "      <td>0</td>\n",
       "    </tr>\n",
       "    <tr>\n",
       "      <th>998</th>\n",
       "      <td>1</td>\n",
       "      <td>45</td>\n",
       "      <td>2</td>\n",
       "      <td>18</td>\n",
       "      <td>1</td>\n",
       "      <td>3</td>\n",
       "      <td>3</td>\n",
       "      <td>4</td>\n",
       "      <td>4</td>\n",
       "      <td>23</td>\n",
       "      <td>...</td>\n",
       "      <td>0</td>\n",
       "      <td>0</td>\n",
       "      <td>1</td>\n",
       "      <td>0</td>\n",
       "      <td>0</td>\n",
       "      <td>0</td>\n",
       "      <td>0</td>\n",
       "      <td>0</td>\n",
       "      <td>1</td>\n",
       "      <td>1</td>\n",
       "    </tr>\n",
       "    <tr>\n",
       "      <th>999</th>\n",
       "      <td>2</td>\n",
       "      <td>45</td>\n",
       "      <td>4</td>\n",
       "      <td>46</td>\n",
       "      <td>2</td>\n",
       "      <td>1</td>\n",
       "      <td>3</td>\n",
       "      <td>4</td>\n",
       "      <td>3</td>\n",
       "      <td>27</td>\n",
       "      <td>...</td>\n",
       "      <td>0</td>\n",
       "      <td>1</td>\n",
       "      <td>1</td>\n",
       "      <td>0</td>\n",
       "      <td>0</td>\n",
       "      <td>1</td>\n",
       "      <td>0</td>\n",
       "      <td>0</td>\n",
       "      <td>1</td>\n",
       "      <td>0</td>\n",
       "    </tr>\n",
       "  </tbody>\n",
       "</table>\n",
       "<p>1000 rows × 25 columns</p>\n",
       "</div>"
      ],
      "text/plain": [
       "     0   1   2   3   4   5   6   7   8   9   ...  15  16  17  18  19  20  21  \\\n",
       "0     1   6   4  12   5   5   3   4   1  67  ...   0   0   1   0   0   1   0   \n",
       "1     2  48   2  60   1   3   2   2   1  22  ...   0   0   1   0   0   1   0   \n",
       "2     4  12   4  21   1   4   3   3   1  49  ...   0   0   1   0   0   1   0   \n",
       "3     1  42   2  79   1   4   3   4   2  45  ...   0   0   0   0   0   0   0   \n",
       "4     1  24   3  49   1   3   3   4   4  53  ...   1   0   1   0   0   0   0   \n",
       "..   ..  ..  ..  ..  ..  ..  ..  ..  ..  ..  ...  ..  ..  ..  ..  ..  ..  ..   \n",
       "995   4  12   2  17   1   4   2   4   1  31  ...   0   0   1   0   0   1   0   \n",
       "996   1  30   2  39   1   3   1   4   2  40  ...   0   1   1   0   0   1   0   \n",
       "997   4  12   2   8   1   5   3   4   3  38  ...   0   0   1   0   0   1   0   \n",
       "998   1  45   2  18   1   3   3   4   4  23  ...   0   0   1   0   0   0   0   \n",
       "999   2  45   4  46   2   1   3   4   3  27  ...   0   1   1   0   0   1   0   \n",
       "\n",
       "     22  23  24  \n",
       "0     0   1   0  \n",
       "1     0   1   1  \n",
       "2     1   0   0  \n",
       "3     0   1   0  \n",
       "4     0   1   1  \n",
       "..   ..  ..  ..  \n",
       "995   1   0   0  \n",
       "996   0   0   0  \n",
       "997   0   1   0  \n",
       "998   0   1   1  \n",
       "999   0   1   0  \n",
       "\n",
       "[1000 rows x 25 columns]"
      ]
     },
     "execution_count": 3,
     "metadata": {},
     "output_type": "execute_result"
    }
   ],
   "source": [
    "#1.2 : Creating ytrain. For convenience, we will use 0 and 1 as labels\n",
    "dataset[24] = dataset[24] - 1\n",
    "dataset"
   ]
  },
  {
   "cell_type": "code",
   "execution_count": 4,
   "id": "western-discussion",
   "metadata": {},
   "outputs": [],
   "source": [
    "# 1.2 Split into train and test set\n",
    "M = 800 # train set size\n",
    "d = 24\n",
    "length = dataset.shape[0]\n",
    "y_train = dataset.loc[:M-1, d]\n",
    "y_test = dataset.loc[M:, d]\n",
    "\n",
    "x_train = dataset.loc[:M-1, :d-1]\n",
    "x_test = dataset.loc[M:, :d-1]"
   ]
  },
  {
   "cell_type": "code",
   "execution_count": null,
   "id": "curious-natural",
   "metadata": {},
   "outputs": [],
   "source": [
    "#1.3 Center and scale the features\n",
    "from sklearn.preprocessing import StandardScaler"
   ]
  },
  {
   "cell_type": "code",
   "execution_count": null,
   "id": "closing-setting",
   "metadata": {},
   "outputs": [
    {
     "data": {
      "text/plain": [
       "(800, 24)"
      ]
     },
     "execution_count": 5,
     "metadata": {},
     "output_type": "execute_result"
    }
   ],
   "source": [
    "#1.3 : scaling xtrain \n",
    "from sklearn.preprocessing import StandardScaler\n",
    "\n",
    "scaler = StandardScaler()\n",
    "x_train = scaler.fit_transform(x_train)\n",
    "x_test = scaler.transform(x_test)\n",
    "x_train.shape"
   ]
  },
  {
   "cell_type": "code",
   "execution_count": 6,
   "id": "military-galaxy",
   "metadata": {},
   "outputs": [
    {
     "name": "stderr",
     "output_type": "stream",
     "text": [
      "WARNING:absl:No GPU/TPU found, falling back to CPU. (Set TF_CPP_MIN_LOG_LEVEL=0 and rerun for more info.)\n"
     ]
    },
    {
     "data": {
      "text/plain": [
       "(800, 25)"
      ]
     },
     "execution_count": 6,
     "metadata": {},
     "output_type": "execute_result"
    }
   ],
   "source": [
    "#1.4 Extend them with a column of ones, which is for logistic regression\n",
    "ones_train = jnp.ones((M, 1))\n",
    "ones_test = jnp.ones((length-M, 1))\n",
    "x_train = jnp.concatenate((ones_train, x_train), axis=1)\n",
    "x_train.shape"
   ]
  },
  {
   "cell_type": "code",
   "execution_count": 7,
   "id": "innocent-ridge",
   "metadata": {},
   "outputs": [
    {
     "data": {
      "text/plain": [
       "DeviceArray([[ 1.        ,  1.1419969 ,  0.27564564, ..., -0.14734778,\n",
       "              -0.50195235,  0.7684122 ],\n",
       "             [ 1.        , -0.46928617, -0.21823233, ..., -0.14734778,\n",
       "               1.9922209 , -1.3013849 ],\n",
       "             [ 1.        , -1.2749277 , -0.05360634, ..., -0.14734778,\n",
       "              -0.50195235,  0.7684122 ],\n",
       "             ...,\n",
       "             [ 1.        ,  1.1419969 , -0.7121103 , ..., -0.14734778,\n",
       "              -0.50195235,  0.7684122 ],\n",
       "             [ 1.        , -1.2749277 ,  2.0042186 , ..., -0.14734778,\n",
       "              -0.50195235,  0.7684122 ],\n",
       "             [ 1.        , -0.46928617,  2.0042186 , ..., -0.14734778,\n",
       "              -0.50195235,  0.7684122 ]], dtype=float32)"
      ]
     },
     "execution_count": 7,
     "metadata": {},
     "output_type": "execute_result"
    }
   ],
   "source": [
    "# the shape changes to dimension 25\n",
    "x_test = jnp.concatenate((ones_test, x_test), axis=1)\n",
    "x_test"
   ]
  },
  {
   "cell_type": "code",
   "execution_count": 8,
   "id": "institutional-burning",
   "metadata": {},
   "outputs": [
    {
     "data": {
      "text/plain": [
       "(DeviceArray([ 1.00000000e+00,  5.36441780e-09,  3.57627861e-09,\n",
       "               1.19209287e-09,  2.38418574e-09, -7.15255721e-09,\n",
       "              -3.93390636e-08, -2.68220890e-09,  1.07288356e-08,\n",
       "              -3.06963912e-08, -1.07288356e-08,  2.02655794e-08,\n",
       "              -3.75509259e-08, -2.14576712e-08, -5.12599918e-08,\n",
       "               3.87430177e-08,  1.47521488e-08,  2.38418574e-09,\n",
       "               3.36766242e-08,  1.78813924e-08,  3.72529030e-09,\n",
       "               0.00000000e+00,  3.57627861e-09,  2.68220894e-08,\n",
       "              -1.40070915e-08], dtype=float32),\n",
       " DeviceArray([0.        , 1.0000001 , 1.        , 0.9999999 , 1.        ,\n",
       "              1.        , 1.        , 1.        , 1.        , 1.        ,\n",
       "              0.99999994, 1.0000001 , 0.9999999 , 1.0000001 , 0.99999994,\n",
       "              0.99999994, 1.0000002 , 0.9999997 , 0.99999994, 1.        ,\n",
       "              0.99999994, 1.        , 1.0000001 , 1.        , 1.0000001 ],            dtype=float32))"
      ]
     },
     "execution_count": 8,
     "metadata": {},
     "output_type": "execute_result"
    }
   ],
   "source": [
    "#make sure that the values are scaled \n",
    "jnp.mean(x_train, axis=0), jnp.std(x_train, axis=0)"
   ]
  },
  {
   "cell_type": "markdown",
   "id": "wrapped-novel",
   "metadata": {},
   "source": [
    "# Question 2: Model specification"
   ]
  },
  {
   "cell_type": "markdown",
   "id": "turned-network",
   "metadata": {
    "pycharm": {
     "name": "#%%\n"
    }
   },
   "source": [
    "##### 2.1 : Proof of log-odds ratio\n",
    "Let us denote $$z= \\beta_0 + \\sum_{j = 1}^n \\beta_j X_j.$$\n",
    "\n",
    "We are to show that\n",
    "$$ \\log \\frac{P(Y=1|\\beta)}{1-P(Y=1|\\beta)} = z.$$\n",
    "We can rewrite the left hand side by splitting the fraction of the log\n",
    "\\begin{align*} \n",
    "\\log \\frac{P(Y=1|\\beta)}{1-P(Y=1|\\beta)} &=  \\log \\frac{1}{1+e^{-z}} - \\log \\frac{e^{-z}}{1+e^{-z}}\\\\ \n",
    " &=   \\log 1 - \\log e^{-z}\\\\ \n",
    " &=  - \\log e^{-z}\\\\ \n",
    " &= z\n",
    "\\end{align*}\n",
    "Note that in the second step we used that you can split again to 4 logarithms and then the log of the denominators will have opposite sign."
   ]
  },
  {
   "cell_type": "markdown",
   "id": "controlled-algeria",
   "metadata": {},
   "source": [
    "##### 2.2 : Parameters\n",
    "We can interepret these parameters as XYZ"
   ]
  },
  {
   "cell_type": "code",
   "execution_count": 11,
   "id": "prescription-irish",
   "metadata": {},
   "outputs": [],
   "source": [
    "#2.3 : Decision Boundry. is it in terms of prob or vars >= 0"
   ]
  },
  {
   "cell_type": "markdown",
   "id": "metric-traffic",
   "metadata": {},
   "source": [
    "##### 2.4 : Proof of log-likelihood\n",
    "Let us denote $$z_i= \\beta_0 + \\sum_{j = 1}^n \\beta_j X_{i,j}.$$\n",
    "\n",
    "If $y_i = 1$, we see that the right hand side is \n",
    "\\begin{align*} \n",
    "\\log \\frac{1}{1+e^{-z_i}}  &= \\log \\frac{e^z_i}{1+e^{z_i}}\\\\\n",
    "&= z_i - \\log 1+e^z_i\\\\\n",
    "&= y_i z_i - \\log 1+e^z_i.\n",
    "\\end{align*}\n",
    "\n",
    "If $y_i = 0$, we see that the right hand side is \n",
    "\\begin{align*} \n",
    "\\log \\frac{e^{-z_i}}{1+e^{-z_i}}  &= \\log \\frac{1}{1+e^{z_i}}\\\\\n",
    "&= 0 - \\log 1+e^{z_i}\\\\\n",
    "&= y_i z_i - \\log 1+e^{z_i}.\n",
    "\\end{align*}"
   ]
  },
  {
   "cell_type": "code",
   "execution_count": 12,
   "id": "atomic-conference",
   "metadata": {},
   "outputs": [
    {
     "name": "stdout",
     "output_type": "stream",
     "text": [
      "Object `error` not found.\n"
     ]
    }
   ],
   "source": [
    "#Implementation – never used\n",
    "def log_likelihood(beta):\n",
    "    x_beta = np.matmul(x_train, beta)\n",
    "    output = np.sum(y_train * x_beta - np.log(1 + np.exp(x_beta)))\n",
    "    return output\n",
    "\n",
    "math needed: Is there an error?\n"
   ]
  },
  {
   "cell_type": "markdown",
   "id": "spiritual-mexico",
   "metadata": {},
   "source": [
    "##### 2.5 : Jax-compatible log-likelihood\n",
    "\n",
    "We are asked to calculate\n",
    "$$\\log P(y_1,...,y_m| \\beta).$$\n",
    "\n",
    "By independence of the training data points, this equals\n",
    "$$\\log \\prod_{i=1}^m P(y_i| \\beta).$$\n",
    "\n",
    "We can now use the result from previous exercise to see that \n",
    "\n",
    "\\begin{align*} \n",
    "\\log \\prod_{i=1}^m P(y_i| \\beta) &=  \\sum_{i=1}^m \\log P(y_i| \\beta) \\\\\n",
    "&= \\sum_{i=1}^m (y_i z_i - \\log 1+e^z_i)\\\\\n",
    "&= \\sum_{i=1}^m y_i z_i -  \\sum_{i=1}^m \\log 1+e^z_i.\n",
    "\\end{align*}"
   ]
  },
  {
   "cell_type": "code",
   "execution_count": 13,
   "id": "exotic-transformation",
   "metadata": {},
   "outputs": [],
   "source": [
    "#math and speed comparison needed\n",
    "@jit\n",
    "def log_likelihood_jax(beta):\n",
    "    x_beta = jnp.matmul(x_train, beta)\n",
    "    output = jnp.sum(y_train * x_beta - jnp.log(1 + jnp.exp(x_beta)))\n",
    "    return output\n",
    "\n",
    "# After investigation, the jit implementations speeds up significantly\n",
    "jit_likelihood_jax = jit(log_likelihood_jax)"
   ]
  },
  {
   "cell_type": "code",
   "execution_count": 14,
   "id": "empty-wrestling",
   "metadata": {},
   "outputs": [],
   "source": [
    "#2.6 : Gradient\n",
    "# speed comparison needed\n",
    "\n",
    "# Evaluates the gradient of the log likelihood for any beta\n",
    "# After investigation, the jit implementations speeds up significantly\n",
    "grad_log_likelihood = jit(grad(log_likelihood_jax))"
   ]
  },
  {
   "cell_type": "code",
   "execution_count": 15,
   "id": "burning-leone",
   "metadata": {},
   "outputs": [],
   "source": [
    "#2.7 : Logprior Function\n",
    "#speed comparison is needed\n",
    "\n",
    "DIM = 25\n",
    "constant = jnp.pi**2 * M / (3*DIM)\n",
    "Sigma = constant * jnp.linalg.inv(jnp.matmul(x_train.T, x_train))\n",
    "\n",
    "@jit\n",
    "def log_prior(beta):\n",
    "    '''\n",
    "    Input – beta: a vector of size d+1\n",
    "    Output – log prior density: constant\n",
    "    '''\n",
    "    return jlogpdf(beta, mean = jnp.zeros(DIM), cov = Sigma)\n",
    "\n",
    "\n",
    "# After investigation, the jit implementations does not speed up significantly\n",
    "# jitlogprior = jit(logprior)"
   ]
  },
  {
   "cell_type": "code",
   "execution_count": 16,
   "id": "abstract-disability",
   "metadata": {},
   "outputs": [],
   "source": [
    "#2.8 : Gradient\n",
    "#speed comparison is needed\n",
    "grad_log_prior = jit(grad(log_prior))"
   ]
  },
  {
   "cell_type": "code",
   "execution_count": 17,
   "id": "d7221565",
   "metadata": {},
   "outputs": [],
   "source": [
    "# 2.9 : Create the log posterior\n",
    "def log_posterior(beta):\n",
    "    '''\n",
    "    Input – beta: a vector of size d+1\n",
    "    Output – log posterior: constant\n",
    "    '''\n",
    "    return log_prior(beta) + log_likelihood(beta)\n"
   ]
  },
  {
   "cell_type": "code",
   "execution_count": 18,
   "id": "9d68d8f0",
   "metadata": {},
   "outputs": [],
   "source": [
    "# 2.10 : Evaluates the gradient of the unnormalized log-posterior density\n",
    " \n",
    "def grad_log_posterior(beta):\n",
    "    '''\n",
    "    Input – beta: a vector of size d+1\n",
    "    Output – gradient step of log posterior: beta: a vector of size d+1\n",
    "    '''\n",
    "    return grad_log_prior(beta) + grad_log_likelihood(beta)"
   ]
  },
  {
   "cell_type": "markdown",
   "id": "unlike-night",
   "metadata": {},
   "source": [
    "# Section 3"
   ]
  },
  {
   "cell_type": "code",
   "execution_count": 19,
   "id": "8fbc9fd7",
   "metadata": {},
   "outputs": [
    {
     "name": "stderr",
     "output_type": "stream",
     "text": [
      "/opt/homebrew/lib/python3.9/site-packages/scipy/stats/_multivariate.py:653: RuntimeWarning: covariance is not positive-semidefinite.\n",
      "  out = random_state.multivariate_normal(mean, cov, size)\n"
     ]
    }
   ],
   "source": [
    "# Q1: independent Metropolis-Hastings\n",
    "def sample_prior():\n",
    "    return multivariate_normal.rvs(mean=np.zeros(DIM), cov=Sigma)\n",
    "\n",
    "n_accept = 0\n",
    "N = 10000\n",
    "current_beta = sample_prior()\n",
    "store_beta = np.zeros((N, DIM))"
   ]
  },
  {
   "cell_type": "code",
   "execution_count": 20,
   "id": "domestic-excellence",
   "metadata": {},
   "outputs": [],
   "source": [
    "#run the loop\n",
    "for n in range(N):\n",
    "    #sample a proposed state\n",
    "    proposed_beta = sample_prior()\n",
    "\n",
    "    #evaluate posterior density\n",
    "    log_posterior_proposed = log_posterior(proposed_beta)\n",
    "    log_posterior_current = log_posterior(current_beta)\n",
    "\n",
    "    #evaluate transition likelihood\n",
    "    log_transition_proposed = log_prior(proposed_beta)\n",
    "    log_transition_current = log_prior(current_beta)\n",
    "    \n",
    "    #log acceptance prob\n",
    "    log_accept_prob = (log_posterior_proposed + log_transition_current\n",
    "                       - log_posterior_current - log_transition_proposed)\n",
    "\n",
    "    #accept tor reject\n",
    "    uniform = np.random.rand(1) # sample a uniform on [0,1]\n",
    "    if np.log(uniform) < log_accept_prob:\n",
    "        current_beta = proposed_beta.copy() #accept\n",
    "        n_accept += 1\n",
    "\n",
    "    store_beta[n,:] = current_beta"
   ]
  },
  {
   "cell_type": "code",
   "execution_count": 21,
   "id": "82675dc5",
   "metadata": {},
   "outputs": [
    {
     "name": "stdout",
     "output_type": "stream",
     "text": [
      "Acceptance rate:  0.0015\n"
     ]
    }
   ],
   "source": [
    "print(\"Acceptance rate: \", n_accept/N)"
   ]
  },
  {
   "cell_type": "code",
   "execution_count": 22,
   "id": "congressional-knowing",
   "metadata": {},
   "outputs": [
    {
     "data": {
      "image/png": "[encoded data removed]",
      "text/plain": [
       "<Figure size 432x288 with 1 Axes>"
      ]
     },
     "metadata": {
      "needs_background": "light"
     },
     "output_type": "display_data"
    }
   ],
   "source": [
    "iteration = np.arange(1,N+1)\n",
    "plt.figure()\n",
    "plt.plot(iteration, store_beta[:,0])\n",
    "plt.plot(iteration, store_beta[:,1])\n",
    "plt.plot(iteration, store_beta[:,2])\n",
    "plt.plot(iteration, store_beta[:,3])\n",
    "plt.xlabel('iteration')\n",
    "plt.ylabel('beta')\n",
    "plt.show()"
   ]
  },
  {
   "cell_type": "code",
   "execution_count": 24,
   "id": "enabling-output",
   "metadata": {},
   "outputs": [],
   "source": [
    "#3.2 : Random Walk Metropolis–Hastings algorithm\n",
    "s = 0.02\n",
    "SIG = jnp.eye(DIM) * s**2\n",
    "rng = jax.random.PRNGKey(0)\n",
    "n_accept = 0\n",
    "store_beta = np.zeros((N,DIM))\n",
    "beta = sample_prior()\n",
    "\n",
    "for n in range(N):\n",
    "#     epsilon = jax.random.multivariate_normal(key=rng, mean= jnp.zeros(DIM), cov=SIG)  \n",
    "    epsilon = np.random.multivariate_normal(mean= jnp.zeros(DIM), cov=SIG)  \n",
    "\n",
    "    proposed_state = beta + epsilon\n",
    "    \n",
    "    pi_y = log_posterior(proposed_state)\n",
    "    pi_x = log_posterior(beta)\n",
    "    \n",
    "    logacceptprob = float(pi_y - pi_x)\n",
    "    \n",
    "    #accept tor reject\n",
    "    uniform = np.random.rand(1) # sample a uniform on [0,1]\n",
    "    if np.log(uniform) < logacceptprob:\n",
    "        beta = proposed_state.copy() #accept\n",
    "        n_accept += 1\n",
    "    store_beta[n,:] = beta\n",
    "    "
   ]
  },
  {
   "cell_type": "code",
   "execution_count": 25,
   "id": "further-mason",
   "metadata": {},
   "outputs": [
    {
     "data": {
      "text/plain": [
       "0.5689"
      ]
     },
     "execution_count": 25,
     "metadata": {},
     "output_type": "execute_result"
    }
   ],
   "source": [
    "n_accept/N"
   ]
  },
  {
   "cell_type": "code",
   "execution_count": 26,
   "id": "meaning-mills",
   "metadata": {},
   "outputs": [
    {
     "data": {
      "image/png": "[encoded data removed]",
      "text/plain": [
       "<Figure size 432x288 with 1 Axes>"
      ]
     },
     "metadata": {
      "needs_background": "light"
     },
     "output_type": "display_data"
    }
   ],
   "source": [
    "iteration = np.arange(1,N+1)\n",
    "plt.figure()\n",
    "plt.plot(iteration, store_beta[:,0])\n",
    "plt.plot(iteration, store_beta[:,1])\n",
    "plt.plot(iteration, store_beta[:,2])\n",
    "plt.plot(iteration, store_beta[:,3])\n",
    "plt.xlabel('iteration')\n",
    "plt.ylabel('beta')\n",
    "plt.show()"
   ]
  },
  {
   "cell_type": "code",
   "execution_count": 27,
   "id": "overhead-inside",
   "metadata": {},
   "outputs": [
    {
     "data": {
      "image/png": "[encoded data removed]",
      "text/plain": [
       "<Figure size 432x288 with 1 Axes>"
      ]
     },
     "metadata": {
      "needs_background": "light"
     },
     "output_type": "display_data"
    }
   ],
   "source": [
    "iteration = np.arange(1,N+1)\n",
    "plt.figure()\n",
    "plt.plot(iteration, np.cumsum(store_beta[:,0])/iteration)\n",
    "plt.plot(iteration, np.cumsum(store_beta[:,1])/iteration)\n",
    "plt.plot(iteration, np.cumsum(store_beta[:,2])/iteration)\n",
    "plt.plot(iteration, np.cumsum(store_beta[:,3])/iteration)\n",
    "plt.xlabel('iteration')\n",
    "plt.ylabel('beta')\n",
    "plt.show()"
   ]
  },
  {
   "cell_type": "code",
   "execution_count": 28,
   "id": "lonely-reproduction",
   "metadata": {},
   "outputs": [
    {
     "data": {
      "image/png": "[encoded data removed]",
      "text/plain": [
       "<Figure size 432x288 with 1 Axes>"
      ]
     },
     "execution_count": 28,
     "metadata": {},
     "output_type": "execute_result"
    },
    {
     "data": {
      "text/plain": [
       "<Figure size 432x288 with 0 Axes>"
      ]
     },
     "metadata": {},
     "output_type": "display_data"
    },
    {
     "data": {
      "image/png": "[encoded data removed]",
      "text/plain": [
       "<Figure size 432x288 with 1 Axes>"
      ]
     },
     "metadata": {
      "needs_background": "light"
     },
     "output_type": "display_data"
    },
    {
     "data": {
      "image/png": "[encoded data removed]",
      "text/plain": [
       "<Figure size 432x288 with 1 Axes>"
      ]
     },
     "metadata": {
      "needs_background": "light"
     },
     "output_type": "display_data"
    }
   ],
   "source": [
    "# auto-correlation function\n",
    "from statsmodels.graphics.tsaplots import plot_acf\n",
    "\n",
    "plt.figure()\n",
    "plot_acf(store_beta[2000:,0], lags = 30, alpha = None)\n",
    "plot_acf(store_beta[2000:,1], lags = 30, alpha = None)"
   ]
  },
  {
   "cell_type": "code",
   "execution_count": 35,
   "id": "stone-detail",
   "metadata": {},
   "outputs": [
    {
     "ename": "TracerArrayConversionError",
     "evalue": "The numpy.ndarray conversion method __array__() was called on the JAX Tracer object Traced<ShapedArray(float32[800])>with<JVPTrace(level=2/2)> with\n  primal = Traced<ShapedArray(float32[800])>with<DynamicJaxprTrace(level=0/2)>\n  tangent = Traced<ShapedArray(float32[800])>with<JaxprTrace(level=1/2)> with\n    pval = (ShapedArray(float32[800]), None)\n    recipe = JaxprEqnRecipe(eqn_id=<object object at 0x14ffa5bd0>, in_tracers=(Traced<ShapedArray(float32[800]):JaxprTrace(level=1/2)>, Traced<ShapedArray(float32[800]):JaxprTrace(level=1/2)>), out_tracer_refs=[<weakref at 0x16a1f09a0; to 'JaxprTracer' at 0x16a1f0a40>], out_avals=[ShapedArray(float32[800])], primitive=xla_call, params={'device': None, 'backend': None, 'name': 'jvp(fn)', 'donated_invars': (False, False), 'inline': True, 'keep_unused': False, 'call_jaxpr': { \u001b[34m\u001b[22m\u001b[1mlambda \u001b[39m\u001b[22m\u001b[22m; a\u001b[35m:f32[800]\u001b[39m b\u001b[35m:f32[800]\u001b[39m. \u001b[34m\u001b[22m\u001b[1mlet\u001b[39m\u001b[22m\u001b[22m c\u001b[35m:f32[800]\u001b[39m = mul b a \u001b[34m\u001b[22m\u001b[1min \u001b[39m\u001b[22m\u001b[22m(c,) }}, effects=set(), source_info=SourceInfo(traceback=<jaxlib.xla_extension.Traceback object at 0x1482c4ef0>, name_stack=NameStack(stack=())))\nSee https://jax.readthedocs.io/en/latest/errors.html#jax.errors.TracerArrayConversionError",
     "output_type": "error",
     "traceback": [
      "\u001b[0;31m---------------------------------------------------------------------------\u001b[0m",
      "\u001b[0;31mTracerArrayConversionError\u001b[0m                Traceback (most recent call last)",
      "\u001b[0;32m<ipython-input-35-c62c6e8da42d>\u001b[0m in \u001b[0;36m<module>\u001b[0;34m\u001b[0m\n\u001b[1;32m     12\u001b[0m     \u001b[0mepsilon\u001b[0m \u001b[0;34m=\u001b[0m \u001b[0mnp\u001b[0m\u001b[0;34m.\u001b[0m\u001b[0mrandom\u001b[0m\u001b[0;34m.\u001b[0m\u001b[0mmultivariate_normal\u001b[0m\u001b[0;34m(\u001b[0m\u001b[0mmean\u001b[0m\u001b[0;34m=\u001b[0m \u001b[0mjnp\u001b[0m\u001b[0;34m.\u001b[0m\u001b[0mzeros\u001b[0m\u001b[0;34m(\u001b[0m\u001b[0mDIM\u001b[0m\u001b[0;34m)\u001b[0m\u001b[0;34m,\u001b[0m \u001b[0mcov\u001b[0m\u001b[0;34m=\u001b[0m\u001b[0mSIG\u001b[0m\u001b[0;34m)\u001b[0m\u001b[0;34m\u001b[0m\u001b[0;34m\u001b[0m\u001b[0m\n\u001b[1;32m     13\u001b[0m \u001b[0;34m\u001b[0m\u001b[0m\n\u001b[0;32m---> 14\u001b[0;31m     \u001b[0mproposed_state\u001b[0m \u001b[0;34m=\u001b[0m \u001b[0mbeta\u001b[0m \u001b[0;34m+\u001b[0m \u001b[0ms\u001b[0m\u001b[0;34m**\u001b[0m\u001b[0;36m2\u001b[0m \u001b[0;34m/\u001b[0m\u001b[0;36m2\u001b[0m \u001b[0;34m*\u001b[0m \u001b[0mgrad_log_posterior\u001b[0m\u001b[0;34m(\u001b[0m\u001b[0mbeta\u001b[0m\u001b[0;34m)\u001b[0m \u001b[0;34m+\u001b[0m \u001b[0mepsilon\u001b[0m\u001b[0;34m\u001b[0m\u001b[0;34m\u001b[0m\u001b[0m\n\u001b[0m\u001b[1;32m     15\u001b[0m \u001b[0;34m\u001b[0m\u001b[0m\n\u001b[1;32m     16\u001b[0m     \u001b[0mpi_y\u001b[0m \u001b[0;34m=\u001b[0m \u001b[0mlog_posterior\u001b[0m\u001b[0;34m(\u001b[0m\u001b[0mproposed_state\u001b[0m\u001b[0;34m)\u001b[0m\u001b[0;34m\u001b[0m\u001b[0;34m\u001b[0m\u001b[0m\n",
      "\u001b[0;32m<ipython-input-18-2090583810ee>\u001b[0m in \u001b[0;36mgrad_log_posterior\u001b[0;34m(beta)\u001b[0m\n\u001b[1;32m      1\u001b[0m \u001b[0;31m# 2.10\u001b[0m\u001b[0;34m\u001b[0m\u001b[0;34m\u001b[0m\u001b[0m\n\u001b[1;32m      2\u001b[0m \u001b[0;32mdef\u001b[0m \u001b[0mgrad_log_posterior\u001b[0m\u001b[0;34m(\u001b[0m\u001b[0mbeta\u001b[0m\u001b[0;34m)\u001b[0m\u001b[0;34m:\u001b[0m\u001b[0;34m\u001b[0m\u001b[0;34m\u001b[0m\u001b[0m\n\u001b[0;32m----> 3\u001b[0;31m     \u001b[0;32mreturn\u001b[0m \u001b[0mgrad_log_prior\u001b[0m\u001b[0;34m(\u001b[0m\u001b[0mbeta\u001b[0m\u001b[0;34m)\u001b[0m \u001b[0;34m+\u001b[0m \u001b[0mgrad_log_likelihood\u001b[0m\u001b[0;34m(\u001b[0m\u001b[0mbeta\u001b[0m\u001b[0;34m)\u001b[0m\u001b[0;34m\u001b[0m\u001b[0;34m\u001b[0m\u001b[0m\n\u001b[0m",
      "    \u001b[0;31m[... skipping hidden 37 frame]\u001b[0m\n",
      "\u001b[0;32m<ipython-input-13-cfa593a462f7>\u001b[0m in \u001b[0;36mlog_likelihood_jax\u001b[0;34m(beta)\u001b[0m\n\u001b[1;32m      5\u001b[0m \u001b[0;32mdef\u001b[0m \u001b[0mlog_likelihood_jax\u001b[0m\u001b[0;34m(\u001b[0m\u001b[0mbeta\u001b[0m\u001b[0;34m)\u001b[0m\u001b[0;34m:\u001b[0m\u001b[0;34m\u001b[0m\u001b[0;34m\u001b[0m\u001b[0m\n\u001b[1;32m      6\u001b[0m     \u001b[0mx_beta\u001b[0m \u001b[0;34m=\u001b[0m \u001b[0mjnp\u001b[0m\u001b[0;34m.\u001b[0m\u001b[0mmatmul\u001b[0m\u001b[0;34m(\u001b[0m\u001b[0mx_train\u001b[0m\u001b[0;34m,\u001b[0m \u001b[0mbeta\u001b[0m\u001b[0;34m)\u001b[0m\u001b[0;34m\u001b[0m\u001b[0;34m\u001b[0m\u001b[0m\n\u001b[0;32m----> 7\u001b[0;31m     \u001b[0moutput\u001b[0m \u001b[0;34m=\u001b[0m \u001b[0mjnp\u001b[0m\u001b[0;34m.\u001b[0m\u001b[0msum\u001b[0m\u001b[0;34m(\u001b[0m\u001b[0my_train\u001b[0m \u001b[0;34m*\u001b[0m \u001b[0mx_beta\u001b[0m \u001b[0;34m-\u001b[0m \u001b[0mjnp\u001b[0m\u001b[0;34m.\u001b[0m\u001b[0mlog\u001b[0m\u001b[0;34m(\u001b[0m\u001b[0;36m1\u001b[0m \u001b[0;34m+\u001b[0m \u001b[0mjnp\u001b[0m\u001b[0;34m.\u001b[0m\u001b[0mexp\u001b[0m\u001b[0;34m(\u001b[0m\u001b[0mx_beta\u001b[0m\u001b[0;34m)\u001b[0m\u001b[0;34m)\u001b[0m\u001b[0;34m)\u001b[0m\u001b[0;34m\u001b[0m\u001b[0;34m\u001b[0m\u001b[0m\n\u001b[0m\u001b[1;32m      8\u001b[0m     \u001b[0;32mreturn\u001b[0m \u001b[0moutput\u001b[0m\u001b[0;34m\u001b[0m\u001b[0;34m\u001b[0m\u001b[0m\n\u001b[1;32m      9\u001b[0m \u001b[0;34m\u001b[0m\u001b[0m\n",
      "\u001b[0;32m/opt/homebrew/lib/python3.9/site-packages/pandas/core/ops/common.py\u001b[0m in \u001b[0;36mnew_method\u001b[0;34m(self, other)\u001b[0m\n\u001b[1;32m     67\u001b[0m         \u001b[0mother\u001b[0m \u001b[0;34m=\u001b[0m \u001b[0mitem_from_zerodim\u001b[0m\u001b[0;34m(\u001b[0m\u001b[0mother\u001b[0m\u001b[0;34m)\u001b[0m\u001b[0;34m\u001b[0m\u001b[0;34m\u001b[0m\u001b[0m\n\u001b[1;32m     68\u001b[0m \u001b[0;34m\u001b[0m\u001b[0m\n\u001b[0;32m---> 69\u001b[0;31m         \u001b[0;32mreturn\u001b[0m \u001b[0mmethod\u001b[0m\u001b[0;34m(\u001b[0m\u001b[0mself\u001b[0m\u001b[0;34m,\u001b[0m \u001b[0mother\u001b[0m\u001b[0;34m)\u001b[0m\u001b[0;34m\u001b[0m\u001b[0;34m\u001b[0m\u001b[0m\n\u001b[0m\u001b[1;32m     70\u001b[0m \u001b[0;34m\u001b[0m\u001b[0m\n\u001b[1;32m     71\u001b[0m     \u001b[0;32mreturn\u001b[0m \u001b[0mnew_method\u001b[0m\u001b[0;34m\u001b[0m\u001b[0;34m\u001b[0m\u001b[0m\n",
      "\u001b[0;32m/opt/homebrew/lib/python3.9/site-packages/pandas/core/arraylike.py\u001b[0m in \u001b[0;36m__mul__\u001b[0;34m(self, other)\u001b[0m\n\u001b[1;32m    106\u001b[0m     \u001b[0;34m@\u001b[0m\u001b[0munpack_zerodim_and_defer\u001b[0m\u001b[0;34m(\u001b[0m\u001b[0;34m\"__mul__\"\u001b[0m\u001b[0;34m)\u001b[0m\u001b[0;34m\u001b[0m\u001b[0;34m\u001b[0m\u001b[0m\n\u001b[1;32m    107\u001b[0m     \u001b[0;32mdef\u001b[0m \u001b[0m__mul__\u001b[0m\u001b[0;34m(\u001b[0m\u001b[0mself\u001b[0m\u001b[0;34m,\u001b[0m \u001b[0mother\u001b[0m\u001b[0;34m)\u001b[0m\u001b[0;34m:\u001b[0m\u001b[0;34m\u001b[0m\u001b[0;34m\u001b[0m\u001b[0m\n\u001b[0;32m--> 108\u001b[0;31m         \u001b[0;32mreturn\u001b[0m \u001b[0mself\u001b[0m\u001b[0;34m.\u001b[0m\u001b[0m_arith_method\u001b[0m\u001b[0;34m(\u001b[0m\u001b[0mother\u001b[0m\u001b[0;34m,\u001b[0m \u001b[0moperator\u001b[0m\u001b[0;34m.\u001b[0m\u001b[0mmul\u001b[0m\u001b[0;34m)\u001b[0m\u001b[0;34m\u001b[0m\u001b[0;34m\u001b[0m\u001b[0m\n\u001b[0m\u001b[1;32m    109\u001b[0m \u001b[0;34m\u001b[0m\u001b[0m\n\u001b[1;32m    110\u001b[0m     \u001b[0;34m@\u001b[0m\u001b[0munpack_zerodim_and_defer\u001b[0m\u001b[0;34m(\u001b[0m\u001b[0;34m\"__rmul__\"\u001b[0m\u001b[0;34m)\u001b[0m\u001b[0;34m\u001b[0m\u001b[0;34m\u001b[0m\u001b[0m\n",
      "\u001b[0;32m/opt/homebrew/lib/python3.9/site-packages/pandas/core/series.py\u001b[0m in \u001b[0;36m_arith_method\u001b[0;34m(self, other, op)\u001b[0m\n\u001b[1;32m   5526\u001b[0m             \u001b[0mresult\u001b[0m \u001b[0;34m=\u001b[0m \u001b[0mops\u001b[0m\u001b[0;34m.\u001b[0m\u001b[0marithmetic_op\u001b[0m\u001b[0;34m(\u001b[0m\u001b[0mlvalues\u001b[0m\u001b[0;34m,\u001b[0m \u001b[0mrvalues\u001b[0m\u001b[0;34m,\u001b[0m \u001b[0mop\u001b[0m\u001b[0;34m)\u001b[0m\u001b[0;34m\u001b[0m\u001b[0;34m\u001b[0m\u001b[0m\n\u001b[1;32m   5527\u001b[0m \u001b[0;34m\u001b[0m\u001b[0m\n\u001b[0;32m-> 5528\u001b[0;31m         \u001b[0;32mreturn\u001b[0m \u001b[0mself\u001b[0m\u001b[0;34m.\u001b[0m\u001b[0m_construct_result\u001b[0m\u001b[0;34m(\u001b[0m\u001b[0mresult\u001b[0m\u001b[0;34m,\u001b[0m \u001b[0mname\u001b[0m\u001b[0;34m=\u001b[0m\u001b[0mres_name\u001b[0m\u001b[0;34m)\u001b[0m\u001b[0;34m\u001b[0m\u001b[0;34m\u001b[0m\u001b[0m\n\u001b[0m\u001b[1;32m   5529\u001b[0m \u001b[0;34m\u001b[0m\u001b[0m\n\u001b[1;32m   5530\u001b[0m \u001b[0;34m\u001b[0m\u001b[0m\n",
      "\u001b[0;32m/opt/homebrew/lib/python3.9/site-packages/pandas/core/series.py\u001b[0m in \u001b[0;36m_construct_result\u001b[0;34m(self, result, name)\u001b[0m\n\u001b[1;32m   2943\u001b[0m         \u001b[0;31m# We do not pass dtype to ensure that the Series constructor\u001b[0m\u001b[0;34m\u001b[0m\u001b[0;34m\u001b[0m\u001b[0m\n\u001b[1;32m   2944\u001b[0m         \u001b[0;31m#  does inference in the case where `result` has object-dtype.\u001b[0m\u001b[0;34m\u001b[0m\u001b[0;34m\u001b[0m\u001b[0m\n\u001b[0;32m-> 2945\u001b[0;31m         \u001b[0mout\u001b[0m \u001b[0;34m=\u001b[0m \u001b[0mself\u001b[0m\u001b[0;34m.\u001b[0m\u001b[0m_constructor\u001b[0m\u001b[0;34m(\u001b[0m\u001b[0mresult\u001b[0m\u001b[0;34m,\u001b[0m \u001b[0mindex\u001b[0m\u001b[0;34m=\u001b[0m\u001b[0mself\u001b[0m\u001b[0;34m.\u001b[0m\u001b[0mindex\u001b[0m\u001b[0;34m)\u001b[0m\u001b[0;34m\u001b[0m\u001b[0;34m\u001b[0m\u001b[0m\n\u001b[0m\u001b[1;32m   2946\u001b[0m         \u001b[0mout\u001b[0m \u001b[0;34m=\u001b[0m \u001b[0mout\u001b[0m\u001b[0;34m.\u001b[0m\u001b[0m__finalize__\u001b[0m\u001b[0;34m(\u001b[0m\u001b[0mself\u001b[0m\u001b[0;34m)\u001b[0m\u001b[0;34m\u001b[0m\u001b[0;34m\u001b[0m\u001b[0m\n\u001b[1;32m   2947\u001b[0m \u001b[0;34m\u001b[0m\u001b[0m\n",
      "\u001b[0;32m/opt/homebrew/lib/python3.9/site-packages/pandas/core/series.py\u001b[0m in \u001b[0;36m__init__\u001b[0;34m(self, data, index, dtype, name, copy, fastpath)\u001b[0m\n\u001b[1;32m    437\u001b[0m                     \u001b[0mdata\u001b[0m \u001b[0;34m=\u001b[0m \u001b[0mdata\u001b[0m\u001b[0;34m.\u001b[0m\u001b[0mcopy\u001b[0m\u001b[0;34m(\u001b[0m\u001b[0;34m)\u001b[0m\u001b[0;34m\u001b[0m\u001b[0;34m\u001b[0m\u001b[0m\n\u001b[1;32m    438\u001b[0m             \u001b[0;32melse\u001b[0m\u001b[0;34m:\u001b[0m\u001b[0;34m\u001b[0m\u001b[0;34m\u001b[0m\u001b[0m\n\u001b[0;32m--> 439\u001b[0;31m                 \u001b[0mdata\u001b[0m \u001b[0;34m=\u001b[0m \u001b[0msanitize_array\u001b[0m\u001b[0;34m(\u001b[0m\u001b[0mdata\u001b[0m\u001b[0;34m,\u001b[0m \u001b[0mindex\u001b[0m\u001b[0;34m,\u001b[0m \u001b[0mdtype\u001b[0m\u001b[0;34m,\u001b[0m \u001b[0mcopy\u001b[0m\u001b[0;34m)\u001b[0m\u001b[0;34m\u001b[0m\u001b[0;34m\u001b[0m\u001b[0m\n\u001b[0m\u001b[1;32m    440\u001b[0m \u001b[0;34m\u001b[0m\u001b[0m\n\u001b[1;32m    441\u001b[0m                 \u001b[0mmanager\u001b[0m \u001b[0;34m=\u001b[0m \u001b[0mget_option\u001b[0m\u001b[0;34m(\u001b[0m\u001b[0;34m\"mode.data_manager\"\u001b[0m\u001b[0;34m)\u001b[0m\u001b[0;34m\u001b[0m\u001b[0;34m\u001b[0m\u001b[0m\n",
      "\u001b[0;32m/opt/homebrew/lib/python3.9/site-packages/pandas/core/construction.py\u001b[0m in \u001b[0;36msanitize_array\u001b[0;34m(data, index, dtype, copy, raise_cast_failure, allow_2d)\u001b[0m\n\u001b[1;32m    563\u001b[0m         \u001b[0;32mif\u001b[0m \u001b[0mhasattr\u001b[0m\u001b[0;34m(\u001b[0m\u001b[0mdata\u001b[0m\u001b[0;34m,\u001b[0m \u001b[0;34m\"__array__\"\u001b[0m\u001b[0;34m)\u001b[0m\u001b[0;34m:\u001b[0m\u001b[0;34m\u001b[0m\u001b[0;34m\u001b[0m\u001b[0m\n\u001b[1;32m    564\u001b[0m             \u001b[0;31m# e.g. dask array GH#38645\u001b[0m\u001b[0;34m\u001b[0m\u001b[0;34m\u001b[0m\u001b[0m\n\u001b[0;32m--> 565\u001b[0;31m             \u001b[0mdata\u001b[0m \u001b[0;34m=\u001b[0m \u001b[0mnp\u001b[0m\u001b[0;34m.\u001b[0m\u001b[0masarray\u001b[0m\u001b[0;34m(\u001b[0m\u001b[0mdata\u001b[0m\u001b[0;34m)\u001b[0m\u001b[0;34m\u001b[0m\u001b[0;34m\u001b[0m\u001b[0m\n\u001b[0m\u001b[1;32m    566\u001b[0m         \u001b[0;32melse\u001b[0m\u001b[0;34m:\u001b[0m\u001b[0;34m\u001b[0m\u001b[0;34m\u001b[0m\u001b[0m\n\u001b[1;32m    567\u001b[0m             \u001b[0mdata\u001b[0m \u001b[0;34m=\u001b[0m \u001b[0mlist\u001b[0m\u001b[0;34m(\u001b[0m\u001b[0mdata\u001b[0m\u001b[0;34m)\u001b[0m\u001b[0;34m\u001b[0m\u001b[0;34m\u001b[0m\u001b[0m\n",
      "\u001b[0;32m/opt/homebrew/lib/python3.9/site-packages/jax/core.py\u001b[0m in \u001b[0;36m__array__\u001b[0;34m(self, *args, **kw)\u001b[0m\n\u001b[1;32m    532\u001b[0m \u001b[0;34m\u001b[0m\u001b[0m\n\u001b[1;32m    533\u001b[0m   \u001b[0;32mdef\u001b[0m \u001b[0m__array__\u001b[0m\u001b[0;34m(\u001b[0m\u001b[0mself\u001b[0m\u001b[0;34m,\u001b[0m \u001b[0;34m*\u001b[0m\u001b[0margs\u001b[0m\u001b[0;34m,\u001b[0m \u001b[0;34m**\u001b[0m\u001b[0mkw\u001b[0m\u001b[0;34m)\u001b[0m\u001b[0;34m:\u001b[0m\u001b[0;34m\u001b[0m\u001b[0;34m\u001b[0m\u001b[0m\n\u001b[0;32m--> 534\u001b[0;31m     \u001b[0;32mraise\u001b[0m \u001b[0mTracerArrayConversionError\u001b[0m\u001b[0;34m(\u001b[0m\u001b[0mself\u001b[0m\u001b[0;34m)\u001b[0m\u001b[0;34m\u001b[0m\u001b[0;34m\u001b[0m\u001b[0m\n\u001b[0m\u001b[1;32m    535\u001b[0m \u001b[0;34m\u001b[0m\u001b[0m\n\u001b[1;32m    536\u001b[0m   \u001b[0;32mdef\u001b[0m \u001b[0m__index__\u001b[0m\u001b[0;34m(\u001b[0m\u001b[0mself\u001b[0m\u001b[0;34m)\u001b[0m\u001b[0;34m:\u001b[0m\u001b[0;34m\u001b[0m\u001b[0;34m\u001b[0m\u001b[0m\n",
      "\u001b[0;31mTracerArrayConversionError\u001b[0m: The numpy.ndarray conversion method __array__() was called on the JAX Tracer object Traced<ShapedArray(float32[800])>with<JVPTrace(level=2/2)> with\n  primal = Traced<ShapedArray(float32[800])>with<DynamicJaxprTrace(level=0/2)>\n  tangent = Traced<ShapedArray(float32[800])>with<JaxprTrace(level=1/2)> with\n    pval = (ShapedArray(float32[800]), None)\n    recipe = JaxprEqnRecipe(eqn_id=<object object at 0x14ffa5bd0>, in_tracers=(Traced<ShapedArray(float32[800]):JaxprTrace(level=1/2)>, Traced<ShapedArray(float32[800]):JaxprTrace(level=1/2)>), out_tracer_refs=[<weakref at 0x16a1f09a0; to 'JaxprTracer' at 0x16a1f0a40>], out_avals=[ShapedArray(float32[800])], primitive=xla_call, params={'device': None, 'backend': None, 'name': 'jvp(fn)', 'donated_invars': (False, False), 'inline': True, 'keep_unused': False, 'call_jaxpr': { \u001b[34m\u001b[22m\u001b[1mlambda \u001b[39m\u001b[22m\u001b[22m; a\u001b[35m:f32[800]\u001b[39m b\u001b[35m:f32[800]\u001b[39m. \u001b[34m\u001b[22m\u001b[1mlet\u001b[39m\u001b[22m\u001b[22m c\u001b[35m:f32[800]\u001b[39m = mul b a \u001b[34m\u001b[22m\u001b[1min \u001b[39m\u001b[22m\u001b[22m(c,) }}, effects=set(), source_info=SourceInfo(traceback=<jaxlib.xla_extension.Traceback object at 0x1482c4ef0>, name_stack=NameStack(stack=())))\nSee https://jax.readthedocs.io/en/latest/errors.html#jax.errors.TracerArrayConversionError"
     ]
    }
   ],
   "source": [
    "# 3.3 : Metropolis-adjusted Langevin algorithm\n",
    "import scipy\n",
    "s = 0.08\n",
    "SIG = jnp.eye(DIM) * s**2\n",
    "rng = jax.random.PRNGKey(0)\n",
    "n_accept = 0\n",
    "store_beta = np.zeros((N,DIM))\n",
    "beta = sample_prior()\n",
    "\n",
    "for n in range(N):\n",
    "#     epsilon = jax.random.multivariate_normal(key=rng, mean= jnp.zeros(DIM), cov=SIG)    \n",
    "    epsilon = np.random.multivariate_normal(mean= jnp.zeros(DIM), cov=SIG)    \n",
    "    \n",
    "    proposed_state = beta + s**2 /2 * grad_log_posterior(beta) + epsilon\n",
    "    \n",
    "    pi_y = log_posterior(proposed_state)\n",
    "    pi_x = log_posterior(beta)\n",
    "    q_y = jlogpdataset(proposed_state, mean = beta + s**2 /2 \\\n",
    "                                                 * gradlogdensity(beta) , cov=SIG)\n",
    "    q_x = jlogpdataset(beta , mean = proposed_state + s**2 /2 \\\n",
    "                                                 * gradlogdensity(proposed_state) , cov=SIG)\n",
    "    \n",
    "    \n",
    "    \n",
    "    logacceptprob = float(pi_y + q_x - pi_x - q_y)\n",
    "    \n",
    "    #accept tor reject\n",
    "    uniform = np.random.rand(1) # sample a uniform on [0,1]\n",
    "    if np.log(uniform) < logacceptprob:\n",
    "        beta = proposed_state.copy() #accept\n",
    "        n_accept += 1\n",
    "    store_beta[n,:] = beta\n",
    "    "
   ]
  },
  {
   "cell_type": "code",
   "execution_count": 36,
   "id": "compatible-fountain",
   "metadata": {},
   "outputs": [
    {
     "data": {
      "text/plain": [
       "0.0"
      ]
     },
     "execution_count": 36,
     "metadata": {},
     "output_type": "execute_result"
    }
   ],
   "source": [
    "n_accept/N"
   ]
  },
  {
   "cell_type": "code",
   "execution_count": 31,
   "id": "acquired-hazard",
   "metadata": {},
   "outputs": [
    {
     "data": {
      "image/png": "[encoded data removed]",
      "text/plain": [
       "<Figure size 432x288 with 1 Axes>"
      ]
     },
     "metadata": {
      "needs_background": "light"
     },
     "output_type": "display_data"
    }
   ],
   "source": [
    "iteration = np.arange(1,N+1)\n",
    "plt.figure()\n",
    "plt.plot(iteration, store_beta[:,0])\n",
    "plt.plot(iteration, store_beta[:,1])\n",
    "plt.plot(iteration, store_beta[:,2])\n",
    "plt.plot(iteration, store_beta[:,3])\n",
    "plt.xlabel('iteration')\n",
    "plt.ylabel('beta')\n",
    "plt.show()"
   ]
  },
  {
   "cell_type": "code",
   "execution_count": 32,
   "id": "meaningful-curve",
   "metadata": {},
   "outputs": [
    {
     "data": {
      "image/png": "[encoded data removed]",
      "text/plain": [
       "<Figure size 432x288 with 1 Axes>"
      ]
     },
     "metadata": {
      "needs_background": "light"
     },
     "output_type": "display_data"
    }
   ],
   "source": [
    "iteration = np.arange(1,N+1)\n",
    "plt.figure()\n",
    "plt.plot(iteration, np.cumsum(store_beta[:,0])/iteration)\n",
    "plt.plot(iteration, np.cumsum(store_beta[:,1])/iteration)\n",
    "plt.plot(iteration, np.cumsum(store_beta[:,2])/iteration)\n",
    "plt.plot(iteration, np.cumsum(store_beta[:,3])/iteration)\n",
    "plt.xlabel('iteration')\n",
    "plt.ylabel('beta')\n",
    "plt.show()"
   ]
  },
  {
   "cell_type": "code",
   "execution_count": 33,
   "id": "embedded-competition",
   "metadata": {},
   "outputs": [
    {
     "name": "stderr",
     "output_type": "stream",
     "text": [
      "/opt/homebrew/lib/python3.9/site-packages/statsmodels/tsa/stattools.py:681: RuntimeWarning: invalid value encountered in true_divide\n",
      "  acf = avf[: nlags + 1] / avf[0]\n",
      "/opt/homebrew/lib/python3.9/site-packages/matplotlib/axes/_base.py:2283: UserWarning: Warning: converting a masked element to nan.\n",
      "  xys = np.asarray(xys)\n",
      "/opt/homebrew/lib/python3.9/site-packages/statsmodels/tsa/stattools.py:681: RuntimeWarning: invalid value encountered in true_divide\n",
      "  acf = avf[: nlags + 1] / avf[0]\n",
      "/opt/homebrew/lib/python3.9/site-packages/matplotlib/axes/_base.py:2283: UserWarning: Warning: converting a masked element to nan.\n",
      "  xys = np.asarray(xys)\n"
     ]
    },
    {
     "data": {
      "image/png": "[encoded data removed]",
      "text/plain": [
       "<Figure size 432x288 with 1 Axes>"
      ]
     },
     "execution_count": 33,
     "metadata": {},
     "output_type": "execute_result"
    },
    {
     "data": {
      "text/plain": [
       "<Figure size 432x288 with 0 Axes>"
      ]
     },
     "metadata": {},
     "output_type": "display_data"
    },
    {
     "data": {
      "image/png": "[encoded data removed]",
      "text/plain": [
       "<Figure size 432x288 with 1 Axes>"
      ]
     },
     "metadata": {
      "needs_background": "light"
     },
     "output_type": "display_data"
    },
    {
     "data": {
      "image/png": "[encoded data removed]",
      "text/plain": [
       "<Figure size 432x288 with 1 Axes>"
      ]
     },
     "metadata": {
      "needs_background": "light"
     },
     "output_type": "display_data"
    }
   ],
   "source": [
    "# auto-correlation function\n",
    "from statsmodels.graphics.tsaplots import plot_acf\n",
    "\n",
    "plt.figure()\n",
    "plot_acf(store_beta[2000:,0], lags = 30, alpha = None)\n",
    "plot_acf(store_beta[2000:,1], lags = 30, alpha = None)"
   ]
  },
  {
   "cell_type": "code",
   "execution_count": null,
   "id": "decimal-steal",
   "metadata": {},
   "outputs": [],
   "source": [
    "#3.4 : Hamiltonian Monte Carlo algorithm\n",
    "import numpy as np\n",
    "\n",
    "s = 0.08\n",
    "SIG = jnp.eye(DIM) * s**2\n",
    "n_accept = 0\n",
    "store_beta = np.zeros((N,DIM))\n",
    "beta = sample_prior()\n",
    "\n",
    "def hamiltonian_dynamics(current_state, current_velocity, stepsize, num_steps, gradlogdensity):\n",
    "    x = current_state\n",
    "    v = current_velocity\n",
    "    \"\"\"Simulate Hamiltonian dynamics.\"\"\"    \n",
    "    v = v + stepsize * np.array(grad_log_posterior(x)) / 2\n",
    "    for step in range(num_steps): \n",
    "        x = x + stepsize * v \n",
    "        if step != (num_steps-1):\n",
    "            v = v + stepsize * np.array(grad_log_posterior(x))\n",
    "            v = v + stepsize * np.array(grad_log_posterior(x)) / 2    \n",
    "    return (x, v)"
   ]
  },
  {
   "cell_type": "code",
   "execution_count": null,
   "id": "severe-canyon",
   "metadata": {},
   "outputs": [],
   "source": [
    "hamiltonian_dynamics(beta, beta, s, N, gradlogdensity)"
   ]
  },
  {
   "cell_type": "code",
   "execution_count": null,
   "id": "chemical-entity",
   "metadata": {},
   "outputs": [],
   "source": []
  },
  {
   "cell_type": "code",
   "execution_count": null,
   "id": "naughty-pasta",
   "metadata": {},
   "outputs": [],
   "source": []
  },
  {
   "cell_type": "code",
   "execution_count": null,
   "id": "primary-coordinator",
   "metadata": {},
   "outputs": [],
   "source": []
  },
  {
   "cell_type": "markdown",
   "id": "expected-semiconductor",
   "metadata": {},
   "source": [
    "# Section 4"
   ]
  },
  {
   "cell_type": "markdown",
   "id": "optional-century",
   "metadata": {},
   "source": [
    "##### 4.1\n",
    "Under the integral, we can see the expit function and a probability distribution. To estimate this integral, we sample $N$ points $\\{ \\beta^{(t)}, \\space t \\in \\{1, .. , N\\} \\space \\}$ from the distribution $P(\\beta | y_1,..,y_m)$ and then add the obtained values $$\\text{expit}(z^{(t)})$$ where \n",
    "$$z^{(t)}= \\beta_0^{(t)} + \\sum_{j = 1}^n \\beta_j^{(t)} X_{j}.$$\n",
    "We give every point $\\beta^{(t)}$ a weight of $1/N$ so that the total weight is 1 and equals the integral of the probability function. This way, we obtain the method of the project."
   ]
  },
  {
   "cell_type": "code",
   "execution_count": null,
   "id": "raised-seminar",
   "metadata": {},
   "outputs": [],
   "source": [
    "#4.2 : Approximated predictive probabilities"
   ]
  },
  {
   "cell_type": "code",
   "execution_count": null,
   "id": "surgical-prime",
   "metadata": {},
   "outputs": [],
   "source": [
    "#4.3 : Prediction rule"
   ]
  },
  {
   "cell_type": "code",
   "execution_count": null,
   "id": "fossil-infection",
   "metadata": {},
   "outputs": [],
   "source": [
    "#4.4 : Misclassification rate"
   ]
  },
  {
   "cell_type": "code",
   "execution_count": null,
   "id": "pregnant-patient",
   "metadata": {},
   "outputs": [],
   "source": [
    "# 4.5 : Cost function\n",
    "\n",
    "def adjust(y_test, y_pred):\n",
    "    '''\n",
    "    Input – y_test: vector with good/bad credit risk\n",
    "          – y_pred: pred values for good/bad credit risk\n",
    "    Output – average cost – constat'''\n",
    "    f = lamda x,y:  5 if x==0 and y==1\\\n",
    "                    else 1 if x==1 and y==0 \\\n",
    "                    else 0\n",
    "    vf = np.vectorize(f)\n",
    "    return vf(y_test, y_pred)\n",
    "\n",
    "\n",
    "def average_cost(y_test):\n",
    "    '''\n",
    "    Input – y_test: vector with good/bad credit risk\n",
    "    Output – average cost – constat''' \n",
    "    return jnp.sum(y_test)"
   ]
  },
  {
   "cell_type": "code",
   "execution_count": null,
   "id": "romance-report",
   "metadata": {},
   "outputs": [],
   "source": [
    "#4.6 : Maximum Likelihood Estimator"
   ]
  },
  {
   "cell_type": "code",
   "execution_count": null,
   "id": "connected-shipping",
   "metadata": {},
   "outputs": [],
   "source": [
    "#4.7 : Misclassification rate"
   ]
  },
  {
   "cell_type": "code",
   "execution_count": null,
   "id": "cutting-honduras",
   "metadata": {},
   "outputs": [],
   "source": [
    "#4.8 : Prediction accuracy"
   ]
  },
  {
   "cell_type": "code",
   "execution_count": null,
   "id": "deadly-patent",
   "metadata": {},
   "outputs": [],
   "source": []
  }
 ],
 "metadata": {
  "interpreter": {
   "hash": "e8fc5084e69b64ba3a8305ae1e10bbd89152d233669d0e5f5d19e1a4da7e5633"
  },
  "kernelspec": {
   "display_name": "Python 3",
   "language": "python",
   "name": "python3"
  },
  "language_info": {
   "codemirror_mode": {
    "name": "ipython",
    "version": 3
   },
   "file_extension": ".py",
   "mimetype": "text/x-python",
   "name": "python",
   "nbconvert_exporter": "python",
   "pygments_lexer": "ipython3",
   "version": "3.8.8"
  },
  "latex_envs": {
   "LaTeX_envs_menu_present": true,
   "autoclose": false,
   "autocomplete": true,
   "bibliofile": "biblio.bib",
   "cite_by": "apalike",
   "current_citInitial": 1,
   "eqLabelWithNumbers": true,
   "eqNumInitial": 1,
   "hotkeys": {
    "equation": "Ctrl-E",
    "itemize": "Ctrl-I"
   },
   "labels_anchors": false,
   "latex_user_defs": false,
   "report_style_numbering": false,
   "user_envs_cfg": false
  },
  "toc": {
   "base_numbering": 1,
   "nav_menu": {},
   "number_sections": true,
   "sideBar": true,
   "skip_h1_title": false,
   "title_cell": "Table of Contents",
   "title_sidebar": "Contents",
   "toc_cell": false,
   "toc_position": {},
   "toc_section_display": true,
   "toc_window_display": false
  }
 },
 "nbformat": 4,
 "nbformat_minor": 5
}
