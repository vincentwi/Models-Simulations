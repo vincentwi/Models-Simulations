{
 "cells": [
  {
   "cell_type": "code",
   "execution_count": null,
   "id": "close-colombia",
   "metadata": {
    "ExecuteTime": {
     "end_time": "2022-06-09T02:18:32.877056Z",
     "start_time": "2022-06-09T02:18:32.873065Z"
    }
   },
   "outputs": [],
   "source": [
    "import pandas as pd\n",
    "import numpy as np\n",
    "import matplotlib.pyplot as plt\n",
    "from scipy.stats import multivariate_normal\n",
    "\n",
    "import jax\n",
    "import jax.numpy as jnp\n",
    "from jax import grad, jit, vmap\n",
    "from jax.scipy.stats.multivariate_normal import logpdf as jlogpdf"
   ]
  },
  {
   "cell_type": "markdown",
   "id": "secure-wyoming",
   "metadata": {},
   "source": [
    "# Question 1: Reading and formatting dataset"
   ]
  },
  {
   "cell_type": "code",
   "execution_count": null,
   "id": "permanent-anatomy",
   "metadata": {},
   "outputs": [],
   "source": [
    "#1.1 Read the dataset\n",
    "dataset = pd.read_csv(\"GermanCredit.txt\", sep =\"\\s+\", header=None)\n",
    "dataset"
   ]
  },
  {
   "cell_type": "code",
   "execution_count": null,
   "id": "handmade-accounting",
   "metadata": {},
   "outputs": [],
   "source": [
    "#1.2 For convenience, we will use 0 and 1 as labels\n",
    "dataset[24] = dataset[24] - 1\n",
    "dataset"
   ]
  },
  {
   "cell_type": "code",
   "execution_count": null,
   "id": "western-discussion",
   "metadata": {},
   "outputs": [],
   "source": [
    "# 1.2 Split into train and test set\n",
    "M = 800 # train set size\n",
    "d = 24\n",
    "length = dataset.shape[0]\n",
    "y_train = dataset.loc[:M-1, d]\n",
    "y_test = dataset.loc[M:, d]\n",
    "\n",
    "x_train = dataset.loc[:M-1, :d-1]\n",
    "x_test = dataset.loc[M:, :d-1]"
   ]
  },
  {
   "cell_type": "code",
   "execution_count": null,
   "id": "curious-natural",
   "metadata": {},
   "outputs": [],
   "source": [
    "#1.3 Center and scale the features\n",
    "from sklearn.preprocessing import StandardScaler"
   ]
  },
  {
   "cell_type": "code",
   "execution_count": null,
   "id": "closing-setting",
   "metadata": {},
   "outputs": [],
   "source": [
    "scaler = StandardScaler()\n",
    "x_train = scaler.fit_transform(x_train)\n",
    "x_test = scaler.transform(x_test)\n",
    "x_train.shape"
   ]
  },
  {
   "cell_type": "code",
   "execution_count": null,
   "id": "military-galaxy",
   "metadata": {},
   "outputs": [],
   "source": [
    "#1.4 Extend them with a column of ones, which is for logistic regression\n",
    "ones_train = jnp.ones((M, 1))\n",
    "ones_test = jnp.ones((length-M, 1))\n",
    "x_train = jnp.concatenate((ones_train, x_train), axis=1)\n",
    "x_train.shape"
   ]
  },
  {
   "cell_type": "code",
   "execution_count": null,
   "id": "innocent-ridge",
   "metadata": {},
   "outputs": [],
   "source": [
    "x_test = jnp.concatenate((ones_test, x_test), axis=1)\n",
    "x_test"
   ]
  },
  {
   "cell_type": "code",
   "execution_count": null,
   "id": "institutional-burning",
   "metadata": {},
   "outputs": [],
   "source": [
    "jnp.mean(x_train, axis=0), jnp.std(x_train, axis=0)"
   ]
  },
  {
   "cell_type": "markdown",
   "id": "wrapped-novel",
   "metadata": {},
   "source": [
    "# Question 2: Model specification"
   ]
  },
  {
   "cell_type": "code",
   "execution_count": null,
   "id": "2bc5aeb1",
   "metadata": {
    "pycharm": {
     "name": "#%%\n"
    }
   },
   "outputs": [],
   "source": [
    "#2.1  - math needed\n"
   ]
  },
  {
   "cell_type": "code",
   "execution_count": null,
   "id": "human-access",
   "metadata": {},
   "outputs": [],
   "source": [
    "#2.2 - explanation needed"
   ]
  },
  {
   "cell_type": "code",
   "execution_count": null,
   "id": "prescription-irish",
   "metadata": {},
   "outputs": [],
   "source": [
    "#2.3 - is it in terms of prob or vars >= 0"
   ]
  },
  {
   "cell_type": "code",
   "execution_count": null,
   "id": "atomic-conference",
   "metadata": {},
   "outputs": [],
   "source": [
    "#2.4 - math needed: Is there an error?\n"
   ]
  },
  {
   "cell_type": "code",
   "execution_count": null,
   "id": "exotic-transformation",
   "metadata": {},
   "outputs": [],
   "source": [
    "#2.5 - math and speed comparison needed\n",
    "def log_likelihood(beta):\n",
    "    x_beta = np.matmul(x_train, beta)\n",
    "    output = np.sum(y_train * x_beta - np.log(1 + np.exp(x_beta)))\n",
    "    return output\n",
    "\n",
    "@jit\n",
    "def log_likelihood_jax(beta):\n",
    "    x_beta = jnp.matmul(x_train, beta)\n",
    "    output = jnp.sum(y_train * x_beta - jnp.log(1 + jnp.exp(x_beta)))\n",
    "    return output\n",
    "\n",
    "jit_likelihood_jax = jit(log_likelihood_jax)"
   ]
  },
  {
   "cell_type": "code",
   "execution_count": null,
   "id": "empty-wrestling",
   "metadata": {},
   "outputs": [],
   "source": [
    "#2.6 - speed comparison needed\n",
    "grad_log_likelihood = jit(grad(log_likelihood_jax))"
   ]
  },
  {
   "cell_type": "code",
   "execution_count": null,
   "id": "burning-leone",
   "metadata": {},
   "outputs": [],
   "source": [
    "#2.7 - speed comparison is needed\n",
    "DIM = 25\n",
    "constant = jnp.pi**2 * M / (3*DIM)\n",
    "Sigma = constant * jnp.linalg.inv(jnp.matmul(x_train.T, x_train))\n",
    "\n",
    "@jit\n",
    "def log_prior(beta):\n",
    "    return jlogpdf(beta, mean=jnp.zeros(DIM), cov=Sigma)"
   ]
  },
  {
   "cell_type": "code",
   "execution_count": null,
   "id": "abstract-disability",
   "metadata": {},
   "outputs": [],
   "source": [
    "#2.8 - speed comparison is needed\n",
    "grad_log_prior = jit(grad(log_prior))"
   ]
  },
  {
   "cell_type": "code",
   "execution_count": null,
   "id": "d7221565",
   "metadata": {},
   "outputs": [],
   "source": [
    "# 2.9 \n",
    "def log_posterior(beta):\n",
    "    return log_prior(beta) + log_likelihood(beta)\n"
   ]
  },
  {
   "cell_type": "code",
   "execution_count": null,
   "id": "9d68d8f0",
   "metadata": {},
   "outputs": [],
   "source": [
    "# 2.10 \n",
    "def grad_log_posterior(beta):\n",
    "    return grad_log_prior(beta) + grad_log_likelihood(beta)"
   ]
  },
  {
   "cell_type": "markdown",
   "id": "unlike-night",
   "metadata": {},
   "source": [
    "# Section 3"
   ]
  },
  {
   "cell_type": "code",
   "execution_count": null,
   "id": "8fbc9fd7",
   "metadata": {},
   "outputs": [],
   "source": [
    "# Q1: independent Metropolis-Hastings\n",
    "def sample_prior():\n",
    "    return multivariate_normal.rvs(mean=np.zeros(DIM), cov=Sigma)\n",
    "\n",
    "current_beta = sample_prior()\n",
    "store_beta = np.zeros((N, DIM))\n",
    "n_accept = 0\n",
    "N = 10000"
   ]
  },
  {
   "cell_type": "code",
   "execution_count": null,
   "id": "domestic-excellence",
   "metadata": {},
   "outputs": [],
   "source": [
    "#run the loop\n",
    "for n in range(N):\n",
    "    #sample a proposed state\n",
    "    proposed_beta = sample_prior()\n",
    "\n",
    "    #evaluate posterior density\n",
    "    log_posterior_proposed = log_posterior(proposed_beta)\n",
    "    log_posterior_current = log_posterior(current_beta)\n",
    "\n",
    "    #evaluate transition likelihood\n",
    "    log_transition_proposed = log_prior(proposed_beta)\n",
    "    log_transition_current = log_prior(current_beta)\n",
    "    \n",
    "    #log acceptance prob\n",
    "    log_accept_prob = (log_posterior_proposed + log_transition_current\n",
    "                       - log_posterior_current - log_transition_proposed)\n",
    "\n",
    "    #accept tor reject\n",
    "    uniform = np.random.rand(1) # sample a uniform on [0,1]\n",
    "    if np.log(uniform) < log_accept_prob:\n",
    "        current_beta = proposed_beta.copy() #accept\n",
    "        n_accept += 1\n",
    "\n",
    "    store_beta[n,:] = current_beta"
   ]
  },
  {
   "cell_type": "code",
   "execution_count": null,
   "id": "82675dc5",
   "metadata": {},
   "outputs": [],
   "source": [
    "print(\"Acceptance rate: \", n_accept/N)"
   ]
  },
  {
   "cell_type": "code",
   "execution_count": null,
   "id": "congressional-knowing",
   "metadata": {},
   "outputs": [],
   "source": [
    "iteration = np.arange(1,N+1)\n",
    "plt.figure()\n",
    "plt.plot(iteration, store_beta[:,0])\n",
    "plt.plot(iteration, store_beta[:,1])\n",
    "plt.plot(iteration, store_beta[:,2])\n",
    "plt.plot(iteration, store_beta[:,3])\n",
    "plt.xlabel('iteration')\n",
    "plt.ylabel('beta')\n",
    "plt.show()"
   ]
  },
  {
   "cell_type": "code",
   "execution_count": null,
   "id": "enabling-output",
   "metadata": {},
   "outputs": [],
   "source": [
    "#3.2\n",
    "s = 0.02\n",
    "SIG = jnp.eye(DIM) * s**2\n",
    "rng = jax.random.PRNGKey(0)\n",
    "n_accept = 0\n",
    "store_beta = np.zeros((N,DIM))\n",
    "beta = sample_prior()\n",
    "\n",
    "for n in range(N):\n",
    "#     epsilon = jax.random.multivariate_normal(key=rng, mean= jnp.zeros(DIM), cov=SIG)  \n",
    "    epsilon = np.random.multivariate_normal(mean= jnp.zeros(DIM), cov=SIG)  \n",
    "\n",
    "    proposed_state = beta + epsilon\n",
    "    \n",
    "    pi_y = logdensity(proposed_state)\n",
    "    pi_x = logdensity(beta)\n",
    "    \n",
    "    logacceptprob = float(pi_y - pi_x)\n",
    "    \n",
    "    #accept tor reject\n",
    "    uniform = np.random.rand(1) # sample a uniform on [0,1]\n",
    "    if np.log(uniform) < logacceptprob:\n",
    "        beta = proposed_state.copy() #accept\n",
    "        n_accept += 1\n",
    "    store_beta[n,:] = beta\n",
    "    "
   ]
  },
  {
   "cell_type": "code",
   "execution_count": null,
   "id": "further-mason",
   "metadata": {},
   "outputs": [],
   "source": [
    "n_accept/N"
   ]
  },
  {
   "cell_type": "code",
   "execution_count": null,
   "id": "meaning-mills",
   "metadata": {},
   "outputs": [],
   "source": [
    "iteration = np.arange(1,N+1)\n",
    "plt.figure()\n",
    "plt.plot(iteration, store_beta[:,0])\n",
    "plt.plot(iteration, store_beta[:,1])\n",
    "plt.plot(iteration, store_beta[:,2])\n",
    "plt.plot(iteration, store_beta[:,3])\n",
    "plt.xlabel('iteration')\n",
    "plt.ylabel('beta')\n",
    "plt.show()"
   ]
  },
  {
   "cell_type": "code",
   "execution_count": null,
   "id": "overhead-inside",
   "metadata": {},
   "outputs": [],
   "source": [
    "iteration = np.arange(1,N+1)\n",
    "plt.figure()\n",
    "plt.plot(iteration, np.cumsum(store_beta[:,0])/iteration)\n",
    "plt.plot(iteration, np.cumsum(store_beta[:,1])/iteration)\n",
    "plt.plot(iteration, np.cumsum(store_beta[:,2])/iteration)\n",
    "plt.plot(iteration, np.cumsum(store_beta[:,3])/iteration)\n",
    "plt.xlabel('iteration')\n",
    "plt.ylabel('beta')\n",
    "plt.show()"
   ]
  },
  {
   "cell_type": "code",
   "execution_count": null,
   "id": "lonely-reproduction",
   "metadata": {},
   "outputs": [],
   "source": [
    "# auto-correlation function\n",
    "from statsmodels.graphics.tsaplots import plot_acf\n",
    "\n",
    "plt.figure()\n",
    "plot_acf(store_beta[2000:,0], lags = 30, alpha = None)\n",
    "plot_acf(store_beta[2000:,1], lags = 30, alpha = None)"
   ]
  },
  {
   "cell_type": "code",
   "execution_count": null,
   "id": "stone-detail",
   "metadata": {},
   "outputs": [],
   "source": [
    "# 3.3\n",
    "import scipy\n",
    "s = 0.08\n",
    "SIG = jnp.eye(DIM) * s**2\n",
    "rng = jax.random.PRNGKey(0)\n",
    "n_accept = 0\n",
    "store_beta = np.zeros((N,DIM))\n",
    "beta = sample_prior()\n",
    "\n",
    "for n in range(N):\n",
    "#     epsilon = jax.random.multivariate_normal(key=rng, mean= jnp.zeros(DIM), cov=SIG)    \n",
    "    epsilon = np.random.multivariate_normal(mean= jnp.zeros(DIM), cov=SIG)    \n",
    "    \n",
    "    proposed_state = beta + s**2 /2 * gradlogdensity(beta) + epsilon\n",
    "    \n",
    "    pi_y = logdensity(proposed_state)\n",
    "    pi_x = logdensity(beta)\n",
    "    q_y = jlogpdataset(proposed_state, mean = beta + s**2 /2 \\\n",
    "                                                 * gradlogdensity(beta) , cov=SIG)\n",
    "    q_x = jlogpdataset(beta , mean = proposed_state + s**2 /2 \\\n",
    "                                                 * gradlogdensity(proposed_state) , cov=SIG)\n",
    "    \n",
    "    \n",
    "    \n",
    "    logacceptprob = float(pi_y + q_x - pi_x - q_y)\n",
    "    \n",
    "    #accept tor reject\n",
    "    uniform = np.random.rand(1) # sample a uniform on [0,1]\n",
    "    if np.log(uniform) < logacceptprob:\n",
    "        beta = proposed_state.copy() #accept\n",
    "        n_accept += 1\n",
    "    store_beta[n,:] = beta\n",
    "    "
   ]
  },
  {
   "cell_type": "code",
   "execution_count": null,
   "id": "compatible-fountain",
   "metadata": {},
   "outputs": [],
   "source": [
    "n_accept/N"
   ]
  },
  {
   "cell_type": "code",
   "execution_count": null,
   "id": "acquired-hazard",
   "metadata": {},
   "outputs": [],
   "source": [
    "iteration = np.arange(1,N+1)\n",
    "plt.figure()\n",
    "plt.plot(iteration, store_beta[:,0])\n",
    "plt.plot(iteration, store_beta[:,1])\n",
    "plt.plot(iteration, store_beta[:,2])\n",
    "plt.plot(iteration, store_beta[:,3])\n",
    "plt.xlabel('iteration')\n",
    "plt.ylabel('beta')\n",
    "plt.show()"
   ]
  },
  {
   "cell_type": "code",
   "execution_count": null,
   "id": "meaningful-curve",
   "metadata": {},
   "outputs": [],
   "source": [
    "iteration = np.arange(1,N+1)\n",
    "plt.figure()\n",
    "plt.plot(iteration, np.cumsum(store_beta[:,0])/iteration)\n",
    "plt.plot(iteration, np.cumsum(store_beta[:,1])/iteration)\n",
    "plt.plot(iteration, np.cumsum(store_beta[:,2])/iteration)\n",
    "plt.plot(iteration, np.cumsum(store_beta[:,3])/iteration)\n",
    "plt.xlabel('iteration')\n",
    "plt.ylabel('beta')\n",
    "plt.show()"
   ]
  },
  {
   "cell_type": "code",
   "execution_count": null,
   "id": "embedded-competition",
   "metadata": {},
   "outputs": [],
   "source": [
    "# auto-correlation function\n",
    "from statsmodels.graphics.tsaplots import plot_acf\n",
    "\n",
    "plt.figure()\n",
    "plot_acf(store_beta[2000:,0], lags = 30, alpha = None)\n",
    "plot_acf(store_beta[2000:,1], lags = 30, alpha = None)"
   ]
  },
  {
   "cell_type": "code",
   "execution_count": null,
   "id": "decimal-steal",
   "metadata": {},
   "outputs": [],
   "source": [
    "#3.4\n",
    "import numpy as np\n",
    "\n",
    "s = 0.08\n",
    "SIG = jnp.eye(DIM) * s**2\n",
    "n_accept = 0\n",
    "store_beta = np.zeros((N,DIM))\n",
    "beta = sample_prior()\n",
    "\n",
    "def hamiltonian_dynamics(current_state, current_velocity, stepsize, num_steps, gradlogdensity):\n",
    "    x = current_state\n",
    "    v = current_velocity\n",
    "    \"\"\"Simulate Hamiltonian dynamics.\"\"\"    \n",
    "    v = v + stepsize * np.array(gradlogdensity(x)) / 2\n",
    "    for step in range(num_steps): \n",
    "        x = x + stepsize * v \n",
    "        if step != (num_steps-1):\n",
    "            v = v + stepsize * np.array(gradlogdensity(x))\n",
    "            v = v + stepsize * np.array(gradlogdensity(x)) / 2    \n",
    "    return (x, v)"
   ]
  },
  {
   "cell_type": "code",
   "execution_count": null,
   "id": "severe-canyon",
   "metadata": {},
   "outputs": [],
   "source": [
    "hamiltonian_dynamics(beta, beta, s, N, gradlogdensity)"
   ]
  },
  {
   "cell_type": "code",
   "execution_count": null,
   "id": "chemical-entity",
   "metadata": {},
   "outputs": [],
   "source": []
  }
 ],
 "metadata": {
  "interpreter": {
   "hash": "e8fc5084e69b64ba3a8305ae1e10bbd89152d233669d0e5f5d19e1a4da7e5633"
  },
  "kernelspec": {
   "display_name": "Python 3",
   "language": "python",
   "name": "python3"
  },
  "language_info": {
   "codemirror_mode": {
    "name": "ipython",
    "version": 3
   },
   "file_extension": ".py",
   "mimetype": "text/x-python",
   "name": "python",
   "nbconvert_exporter": "python",
   "pygments_lexer": "ipython3",
   "version": "3.8.8"
  },
  "latex_envs": {
   "LaTeX_envs_menu_present": true,
   "autoclose": false,
   "autocomplete": true,
   "bibliofile": "biblio.bib",
   "cite_by": "apalike",
   "current_citInitial": 1,
   "eqLabelWithNumbers": true,
   "eqNumInitial": 1,
   "hotkeys": {
    "equation": "Ctrl-E",
    "itemize": "Ctrl-I"
   },
   "labels_anchors": false,
   "latex_user_defs": false,
   "report_style_numbering": false,
   "user_envs_cfg": false
  },
  "toc": {
   "base_numbering": 1,
   "nav_menu": {},
   "number_sections": true,
   "sideBar": true,
   "skip_h1_title": false,
   "title_cell": "Table of Contents",
   "title_sidebar": "Contents",
   "toc_cell": false,
   "toc_position": {},
   "toc_section_display": true,
   "toc_window_display": false
  }
 },
 "nbformat": 4,
 "nbformat_minor": 5
}
